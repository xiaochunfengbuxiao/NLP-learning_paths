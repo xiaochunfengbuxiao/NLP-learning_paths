{
 "cells": [
  {
   "cell_type": "markdown",
   "metadata": {
    "collapsed": false
   },
   "source": [
    "# Exp2：基于回归分析的大学综合得分预测\n",
    "---\n",
    "\n",
    "## 一、案例简介\n",
    "大学排名是一个非常重要同时也极富挑战性与争议性的问题，一所大学的综合实力涉及科研、师资、学生等方方面面。目前全球有上百家评估机构会评估大学的综合得分进行排序，而这些机构的打分也往往并不一致。在这些评分机构中，世界大学排名中心（Center for World University Rankings，缩写CWUR）以评估教育质量、校友就业、研究成果和引用，而非依赖于调查和大学所提交的数据著称，是非常有影响力的一个。\n",
    "\n",
    "本任务中我们将根据 CWUR 所提供的世界各地知名大学各方面的排名（师资、科研等），一方面通过数据可视化的方式观察不同大学的特点，另一方面希望构建机器学习模型（线性回归）预测一所大学的综合得分。"
   ]
  },
  {
   "cell_type": "markdown",
   "metadata": {},
   "source": [
    "## 二、作业说明\n",
    "使用来自 Kaggle 的[数据](https://www.kaggle.com/mylesoneill/world-university-rankings?select=cwurData.csv)，构建「线性回归」模型，根据大学各项指标的排名预测综合得分。\n",
    "\n",
    "**基本要求：**\n",
    "* 按照 8:2 随机划分训练集测试集，用 RMSE 作为评价指标，得到测试集上线性回归模型的 RMSE 值；\n",
    "* 对线性回归模型的系数进行分析。\n",
    "\n",
    "**扩展要求：**\n",
    "* 对数据进行观察与可视化，展示数据特点；\n",
    "* 尝试其他的回归模型，对比效果；\n",
    "* 尝试将离散的地区特征融入线性回归模型，并对结果进行对比。\n",
    "\n",
    "**注意事项：**\n",
    "* 基本输入特征有 8 个：`quality_of_education`, `alumni_employment`, `quality_of_faculty`, `publications`, `influence`, `citations`, `broad_impact`, `patents`；\n",
    "* 预测目标为`score`；\n",
    "* 可以使用 sklearn 等第三方库，不要求自己实现线性回归；\n",
    "* 需要保留所有数据集生成、模型训练测试的代码；"
   ]
  },
  {
   "cell_type": "markdown",
   "metadata": {},
   "source": [
    "## 三、数据概览"
   ]
  },
  {
   "cell_type": "markdown",
   "metadata": {},
   "source": [
    "假设数据文件位于当前文件夹，我们用 pandas 读入标准 csv 格式文件的函数`read_csv()`将数据转换为`DataFrame`的形式。观察前几条数据记录："
   ]
  },
  {
   "cell_type": "code",
   "execution_count": 2,
   "metadata": {
    "ExecuteTime": {
     "end_time": "2024-03-03T13:33:14.429603100Z",
     "start_time": "2024-03-03T13:33:14.290974800Z"
    }
   },
   "outputs": [],
   "source": [
    "# 模块导入\n",
    "import pandas as pd\n",
    "from sklearn.model_selection import train_test_split, cross_validate # 划分数据集函数\n",
    "from sklearn import linear_model\n",
    "from sklearn.metrics import mean_squared_error, r2_score\n",
    "import matplotlib.pyplot as plt"
   ]
  },
  {
   "cell_type": "markdown",
   "metadata": {},
   "source": [
    "去除其中包含 NaN 的数据，保留 2000 条有效记录。"
   ]
  },
  {
   "cell_type": "code",
   "execution_count": 3,
   "metadata": {
    "ExecuteTime": {
     "end_time": "2024-03-03T13:33:14.481464Z",
     "start_time": "2024-03-03T13:33:14.432595400Z"
    },
    "collapsed": false
   },
   "outputs": [
    {
     "data": {
      "text/html": [
       "<div>\n",
       "<style scoped>\n",
       "    .dataframe tbody tr th:only-of-type {\n",
       "        vertical-align: middle;\n",
       "    }\n",
       "\n",
       "    .dataframe tbody tr th {\n",
       "        vertical-align: top;\n",
       "    }\n",
       "\n",
       "    .dataframe thead th {\n",
       "        text-align: right;\n",
       "    }\n",
       "</style>\n",
       "<table border=\"1\" class=\"dataframe\">\n",
       "  <thead>\n",
       "    <tr style=\"text-align: right;\">\n",
       "      <th></th>\n",
       "      <th>0</th>\n",
       "      <th>1</th>\n",
       "      <th>2</th>\n",
       "    </tr>\n",
       "  </thead>\n",
       "  <tbody>\n",
       "    <tr>\n",
       "      <th>world_rank</th>\n",
       "      <td>1</td>\n",
       "      <td>2</td>\n",
       "      <td>3</td>\n",
       "    </tr>\n",
       "    <tr>\n",
       "      <th>institution</th>\n",
       "      <td>Harvard University</td>\n",
       "      <td>Massachusetts Institute of Technology</td>\n",
       "      <td>Stanford University</td>\n",
       "    </tr>\n",
       "    <tr>\n",
       "      <th>region</th>\n",
       "      <td>USA</td>\n",
       "      <td>USA</td>\n",
       "      <td>USA</td>\n",
       "    </tr>\n",
       "    <tr>\n",
       "      <th>national_rank</th>\n",
       "      <td>1</td>\n",
       "      <td>2</td>\n",
       "      <td>3</td>\n",
       "    </tr>\n",
       "    <tr>\n",
       "      <th>quality_of_education</th>\n",
       "      <td>7</td>\n",
       "      <td>9</td>\n",
       "      <td>17</td>\n",
       "    </tr>\n",
       "    <tr>\n",
       "      <th>alumni_employment</th>\n",
       "      <td>9</td>\n",
       "      <td>17</td>\n",
       "      <td>11</td>\n",
       "    </tr>\n",
       "    <tr>\n",
       "      <th>quality_of_faculty</th>\n",
       "      <td>1</td>\n",
       "      <td>3</td>\n",
       "      <td>5</td>\n",
       "    </tr>\n",
       "    <tr>\n",
       "      <th>publications</th>\n",
       "      <td>1</td>\n",
       "      <td>12</td>\n",
       "      <td>4</td>\n",
       "    </tr>\n",
       "    <tr>\n",
       "      <th>influence</th>\n",
       "      <td>1</td>\n",
       "      <td>4</td>\n",
       "      <td>2</td>\n",
       "    </tr>\n",
       "    <tr>\n",
       "      <th>citations</th>\n",
       "      <td>1</td>\n",
       "      <td>4</td>\n",
       "      <td>2</td>\n",
       "    </tr>\n",
       "    <tr>\n",
       "      <th>broad_impact</th>\n",
       "      <td>NaN</td>\n",
       "      <td>NaN</td>\n",
       "      <td>NaN</td>\n",
       "    </tr>\n",
       "    <tr>\n",
       "      <th>patents</th>\n",
       "      <td>5</td>\n",
       "      <td>1</td>\n",
       "      <td>15</td>\n",
       "    </tr>\n",
       "    <tr>\n",
       "      <th>score</th>\n",
       "      <td>100.0</td>\n",
       "      <td>91.67</td>\n",
       "      <td>89.5</td>\n",
       "    </tr>\n",
       "    <tr>\n",
       "      <th>year</th>\n",
       "      <td>2012</td>\n",
       "      <td>2012</td>\n",
       "      <td>2012</td>\n",
       "    </tr>\n",
       "  </tbody>\n",
       "</table>\n",
       "</div>"
      ],
      "text/plain": [
       "                                       0  \\\n",
       "world_rank                             1   \n",
       "institution           Harvard University   \n",
       "region                               USA   \n",
       "national_rank                          1   \n",
       "quality_of_education                   7   \n",
       "alumni_employment                      9   \n",
       "quality_of_faculty                     1   \n",
       "publications                           1   \n",
       "influence                              1   \n",
       "citations                              1   \n",
       "broad_impact                         NaN   \n",
       "patents                                5   \n",
       "score                              100.0   \n",
       "year                                2012   \n",
       "\n",
       "                                                          1  \\\n",
       "world_rank                                                2   \n",
       "institution           Massachusetts Institute of Technology   \n",
       "region                                                  USA   \n",
       "national_rank                                             2   \n",
       "quality_of_education                                      9   \n",
       "alumni_employment                                        17   \n",
       "quality_of_faculty                                        3   \n",
       "publications                                             12   \n",
       "influence                                                 4   \n",
       "citations                                                 4   \n",
       "broad_impact                                            NaN   \n",
       "patents                                                   1   \n",
       "score                                                 91.67   \n",
       "year                                                   2012   \n",
       "\n",
       "                                        2  \n",
       "world_rank                              3  \n",
       "institution           Stanford University  \n",
       "region                                USA  \n",
       "national_rank                           3  \n",
       "quality_of_education                   17  \n",
       "alumni_employment                      11  \n",
       "quality_of_faculty                      5  \n",
       "publications                            4  \n",
       "influence                               2  \n",
       "citations                               2  \n",
       "broad_impact                          NaN  \n",
       "patents                                15  \n",
       "score                                89.5  \n",
       "year                                 2012  "
      ]
     },
     "execution_count": 3,
     "metadata": {},
     "output_type": "execute_result"
    }
   ],
   "source": [
    "# 加载数据\n",
    "data_df = pd.read_csv('./cwurData.csv')  # 读入 csv 文件为 pandas 的 DataFrame\n",
    "data_df.head(3).T # 观察前几列并转置方便观察"
   ]
  },
  {
   "cell_type": "code",
   "execution_count": 4,
   "metadata": {
    "ExecuteTime": {
     "end_time": "2024-03-03T13:33:14.524351300Z",
     "start_time": "2024-03-03T13:33:14.453539400Z"
    }
   },
   "outputs": [
    {
     "data": {
      "text/plain": [
       "2000"
      ]
     },
     "execution_count": 4,
     "metadata": {},
     "output_type": "execute_result"
    }
   ],
   "source": [
    "data_df = data_df.dropna()  # 舍去包含 NaN 的 row\n",
    "len(data_df)"
   ]
  },
  {
   "cell_type": "markdown",
   "metadata": {},
   "source": [
    "取出对应自变量以及因变量的列，之后就可以基于此切分训练集和测试集，并进行模型构建与分析。"
   ]
  },
  {
   "cell_type": "code",
   "execution_count": 5,
   "metadata": {
    "ExecuteTime": {
     "end_time": "2024-03-03T13:33:14.526346400Z",
     "start_time": "2024-03-03T13:33:14.469497300Z"
    }
   },
   "outputs": [],
   "source": [
    "feature_cols = ['quality_of_faculty', 'publications', 'citations', 'alumni_employment', \n",
    "                'influence', 'quality_of_education', 'broad_impact', 'patents']\n",
    "X = data_df[feature_cols]\n",
    "y = data_df['score']"
   ]
  },
  {
   "cell_type": "code",
   "execution_count": 6,
   "metadata": {
    "ExecuteTime": {
     "end_time": "2024-03-03T13:33:14.626102800Z",
     "start_time": "2024-03-03T13:33:14.490440400Z"
    },
    "collapsed": false
   },
   "outputs": [
    {
     "data": {
      "text/html": [
       "<div>\n",
       "<style scoped>\n",
       "    .dataframe tbody tr th:only-of-type {\n",
       "        vertical-align: middle;\n",
       "    }\n",
       "\n",
       "    .dataframe tbody tr th {\n",
       "        vertical-align: top;\n",
       "    }\n",
       "\n",
       "    .dataframe thead th {\n",
       "        text-align: right;\n",
       "    }\n",
       "</style>\n",
       "<table border=\"1\" class=\"dataframe\">\n",
       "  <thead>\n",
       "    <tr style=\"text-align: right;\">\n",
       "      <th></th>\n",
       "      <th>quality_of_faculty</th>\n",
       "      <th>publications</th>\n",
       "      <th>citations</th>\n",
       "      <th>alumni_employment</th>\n",
       "      <th>influence</th>\n",
       "      <th>quality_of_education</th>\n",
       "      <th>broad_impact</th>\n",
       "      <th>patents</th>\n",
       "    </tr>\n",
       "  </thead>\n",
       "  <tbody>\n",
       "    <tr>\n",
       "      <th>200</th>\n",
       "      <td>1</td>\n",
       "      <td>1</td>\n",
       "      <td>1</td>\n",
       "      <td>1</td>\n",
       "      <td>1</td>\n",
       "      <td>1</td>\n",
       "      <td>1.0</td>\n",
       "      <td>2</td>\n",
       "    </tr>\n",
       "    <tr>\n",
       "      <th>201</th>\n",
       "      <td>4</td>\n",
       "      <td>5</td>\n",
       "      <td>3</td>\n",
       "      <td>2</td>\n",
       "      <td>3</td>\n",
       "      <td>11</td>\n",
       "      <td>4.0</td>\n",
       "      <td>6</td>\n",
       "    </tr>\n",
       "    <tr>\n",
       "      <th>202</th>\n",
       "      <td>2</td>\n",
       "      <td>15</td>\n",
       "      <td>2</td>\n",
       "      <td>11</td>\n",
       "      <td>2</td>\n",
       "      <td>3</td>\n",
       "      <td>2.0</td>\n",
       "      <td>1</td>\n",
       "    </tr>\n",
       "    <tr>\n",
       "      <th>203</th>\n",
       "      <td>5</td>\n",
       "      <td>10</td>\n",
       "      <td>12</td>\n",
       "      <td>10</td>\n",
       "      <td>9</td>\n",
       "      <td>2</td>\n",
       "      <td>13.0</td>\n",
       "      <td>48</td>\n",
       "    </tr>\n",
       "    <tr>\n",
       "      <th>204</th>\n",
       "      <td>10</td>\n",
       "      <td>11</td>\n",
       "      <td>11</td>\n",
       "      <td>12</td>\n",
       "      <td>12</td>\n",
       "      <td>7</td>\n",
       "      <td>12.0</td>\n",
       "      <td>16</td>\n",
       "    </tr>\n",
       "    <tr>\n",
       "      <th>...</th>\n",
       "      <td>...</td>\n",
       "      <td>...</td>\n",
       "      <td>...</td>\n",
       "      <td>...</td>\n",
       "      <td>...</td>\n",
       "      <td>...</td>\n",
       "      <td>...</td>\n",
       "      <td>...</td>\n",
       "    </tr>\n",
       "    <tr>\n",
       "      <th>2195</th>\n",
       "      <td>218</td>\n",
       "      <td>926</td>\n",
       "      <td>812</td>\n",
       "      <td>567</td>\n",
       "      <td>845</td>\n",
       "      <td>367</td>\n",
       "      <td>969.0</td>\n",
       "      <td>816</td>\n",
       "    </tr>\n",
       "    <tr>\n",
       "      <th>2196</th>\n",
       "      <td>218</td>\n",
       "      <td>997</td>\n",
       "      <td>645</td>\n",
       "      <td>566</td>\n",
       "      <td>908</td>\n",
       "      <td>236</td>\n",
       "      <td>981.0</td>\n",
       "      <td>871</td>\n",
       "    </tr>\n",
       "    <tr>\n",
       "      <th>2197</th>\n",
       "      <td>218</td>\n",
       "      <td>830</td>\n",
       "      <td>812</td>\n",
       "      <td>549</td>\n",
       "      <td>823</td>\n",
       "      <td>367</td>\n",
       "      <td>975.0</td>\n",
       "      <td>824</td>\n",
       "    </tr>\n",
       "    <tr>\n",
       "      <th>2198</th>\n",
       "      <td>218</td>\n",
       "      <td>886</td>\n",
       "      <td>812</td>\n",
       "      <td>567</td>\n",
       "      <td>974</td>\n",
       "      <td>367</td>\n",
       "      <td>975.0</td>\n",
       "      <td>651</td>\n",
       "    </tr>\n",
       "    <tr>\n",
       "      <th>2199</th>\n",
       "      <td>218</td>\n",
       "      <td>861</td>\n",
       "      <td>812</td>\n",
       "      <td>567</td>\n",
       "      <td>991</td>\n",
       "      <td>367</td>\n",
       "      <td>981.0</td>\n",
       "      <td>547</td>\n",
       "    </tr>\n",
       "  </tbody>\n",
       "</table>\n",
       "<p>2000 rows × 8 columns</p>\n",
       "</div>"
      ],
      "text/plain": [
       "      quality_of_faculty  publications  citations  alumni_employment  \\\n",
       "200                    1             1          1                  1   \n",
       "201                    4             5          3                  2   \n",
       "202                    2            15          2                 11   \n",
       "203                    5            10         12                 10   \n",
       "204                   10            11         11                 12   \n",
       "...                  ...           ...        ...                ...   \n",
       "2195                 218           926        812                567   \n",
       "2196                 218           997        645                566   \n",
       "2197                 218           830        812                549   \n",
       "2198                 218           886        812                567   \n",
       "2199                 218           861        812                567   \n",
       "\n",
       "      influence  quality_of_education  broad_impact  patents  \n",
       "200           1                     1           1.0        2  \n",
       "201           3                    11           4.0        6  \n",
       "202           2                     3           2.0        1  \n",
       "203           9                     2          13.0       48  \n",
       "204          12                     7          12.0       16  \n",
       "...         ...                   ...           ...      ...  \n",
       "2195        845                   367         969.0      816  \n",
       "2196        908                   236         981.0      871  \n",
       "2197        823                   367         975.0      824  \n",
       "2198        974                   367         975.0      651  \n",
       "2199        991                   367         981.0      547  \n",
       "\n",
       "[2000 rows x 8 columns]"
      ]
     },
     "execution_count": 6,
     "metadata": {},
     "output_type": "execute_result"
    }
   ],
   "source": [
    "X"
   ]
  },
  {
   "cell_type": "code",
   "execution_count": 7,
   "metadata": {
    "ExecuteTime": {
     "end_time": "2024-03-03T13:33:14.651011700Z",
     "start_time": "2024-03-03T13:33:14.536318Z"
    },
    "collapsed": false
   },
   "outputs": [
    {
     "data": {
      "text/plain": [
       "200     100.00\n",
       "201      99.09\n",
       "202      98.69\n",
       "203      97.64\n",
       "204      97.51\n",
       "         ...  \n",
       "2195     44.03\n",
       "2196     44.03\n",
       "2197     44.03\n",
       "2198     44.02\n",
       "2199     44.02\n",
       "Name: score, Length: 2000, dtype: float64"
      ]
     },
     "execution_count": 7,
     "metadata": {},
     "output_type": "execute_result"
    }
   ],
   "source": [
    "y"
   ]
  },
  {
   "cell_type": "markdown",
   "metadata": {
    "collapsed": false
   },
   "source": [
    "# 基本要求"
   ]
  },
  {
   "cell_type": "markdown",
   "metadata": {
    "collapsed": false
   },
   "source": [
    "## 一.划分训练集和测试集"
   ]
  },
  {
   "cell_type": "code",
   "execution_count": 8,
   "metadata": {
    "ExecuteTime": {
     "end_time": "2024-03-03T13:33:14.726807700Z",
     "start_time": "2024-03-03T13:33:14.656995Z"
    },
    "collapsed": false
   },
   "outputs": [
    {
     "data": {
      "text/plain": [
       "((2000, 8), (2000,), (1600, 8), (400, 8), (1600,), (400,))"
      ]
     },
     "execution_count": 8,
     "metadata": {},
     "output_type": "execute_result"
    }
   ],
   "source": [
    "RANDOM_SEED = 2024  # 固定随机数种子\n",
    "X_train, X_test, y_train, y_test = train_test_split(X, y, test_size=0.2, random_state=RANDOM_SEED)\n",
    "X.shape, y.shape, X_train.shape, X_test.shape, y_train.shape, y_test.shape # 输出数据行列信息"
   ]
  },
  {
   "cell_type": "code",
   "execution_count": 9,
   "metadata": {
    "ExecuteTime": {
     "end_time": "2024-03-03T13:33:14.762712400Z",
     "start_time": "2024-03-03T13:33:14.703870200Z"
    },
    "collapsed": false
   },
   "outputs": [
    {
     "data": {
      "text/html": [
       "<div>\n",
       "<style scoped>\n",
       "    .dataframe tbody tr th:only-of-type {\n",
       "        vertical-align: middle;\n",
       "    }\n",
       "\n",
       "    .dataframe tbody tr th {\n",
       "        vertical-align: top;\n",
       "    }\n",
       "\n",
       "    .dataframe thead th {\n",
       "        text-align: right;\n",
       "    }\n",
       "</style>\n",
       "<table border=\"1\" class=\"dataframe\">\n",
       "  <thead>\n",
       "    <tr style=\"text-align: right;\">\n",
       "      <th></th>\n",
       "      <th>quality_of_faculty</th>\n",
       "      <th>publications</th>\n",
       "      <th>citations</th>\n",
       "      <th>alumni_employment</th>\n",
       "      <th>influence</th>\n",
       "      <th>quality_of_education</th>\n",
       "      <th>broad_impact</th>\n",
       "      <th>patents</th>\n",
       "    </tr>\n",
       "  </thead>\n",
       "  <tbody>\n",
       "    <tr>\n",
       "      <th>325</th>\n",
       "      <td>68</td>\n",
       "      <td>161</td>\n",
       "      <td>69</td>\n",
       "      <td>478</td>\n",
       "      <td>73</td>\n",
       "      <td>170</td>\n",
       "      <td>118.0</td>\n",
       "      <td>100</td>\n",
       "    </tr>\n",
       "    <tr>\n",
       "      <th>753</th>\n",
       "      <td>210</td>\n",
       "      <td>447</td>\n",
       "      <td>800</td>\n",
       "      <td>478</td>\n",
       "      <td>590</td>\n",
       "      <td>355</td>\n",
       "      <td>452.0</td>\n",
       "      <td>552</td>\n",
       "    </tr>\n",
       "    <tr>\n",
       "      <th>400</th>\n",
       "      <td>205</td>\n",
       "      <td>167</td>\n",
       "      <td>99</td>\n",
       "      <td>478</td>\n",
       "      <td>119</td>\n",
       "      <td>166</td>\n",
       "      <td>155.0</td>\n",
       "      <td>426</td>\n",
       "    </tr>\n",
       "    <tr>\n",
       "      <th>895</th>\n",
       "      <td>210</td>\n",
       "      <td>754</td>\n",
       "      <td>800</td>\n",
       "      <td>230</td>\n",
       "      <td>952</td>\n",
       "      <td>225</td>\n",
       "      <td>897.0</td>\n",
       "      <td>737</td>\n",
       "    </tr>\n",
       "    <tr>\n",
       "      <th>409</th>\n",
       "      <td>171</td>\n",
       "      <td>173</td>\n",
       "      <td>114</td>\n",
       "      <td>456</td>\n",
       "      <td>197</td>\n",
       "      <td>114</td>\n",
       "      <td>180.0</td>\n",
       "      <td>338</td>\n",
       "    </tr>\n",
       "    <tr>\n",
       "      <th>...</th>\n",
       "      <td>...</td>\n",
       "      <td>...</td>\n",
       "      <td>...</td>\n",
       "      <td>...</td>\n",
       "      <td>...</td>\n",
       "      <td>...</td>\n",
       "      <td>...</td>\n",
       "      <td>...</td>\n",
       "    </tr>\n",
       "    <tr>\n",
       "      <th>739</th>\n",
       "      <td>210</td>\n",
       "      <td>557</td>\n",
       "      <td>363</td>\n",
       "      <td>344</td>\n",
       "      <td>354</td>\n",
       "      <td>355</td>\n",
       "      <td>472.0</td>\n",
       "      <td>637</td>\n",
       "    </tr>\n",
       "    <tr>\n",
       "      <th>840</th>\n",
       "      <td>210</td>\n",
       "      <td>521</td>\n",
       "      <td>800</td>\n",
       "      <td>478</td>\n",
       "      <td>358</td>\n",
       "      <td>355</td>\n",
       "      <td>554.0</td>\n",
       "      <td>552</td>\n",
       "    </tr>\n",
       "    <tr>\n",
       "      <th>808</th>\n",
       "      <td>210</td>\n",
       "      <td>597</td>\n",
       "      <td>493</td>\n",
       "      <td>233</td>\n",
       "      <td>557</td>\n",
       "      <td>355</td>\n",
       "      <td>716.0</td>\n",
       "      <td>481</td>\n",
       "    </tr>\n",
       "    <tr>\n",
       "      <th>1730</th>\n",
       "      <td>218</td>\n",
       "      <td>438</td>\n",
       "      <td>428</td>\n",
       "      <td>567</td>\n",
       "      <td>693</td>\n",
       "      <td>213</td>\n",
       "      <td>457.0</td>\n",
       "      <td>853</td>\n",
       "    </tr>\n",
       "    <tr>\n",
       "      <th>1872</th>\n",
       "      <td>218</td>\n",
       "      <td>662</td>\n",
       "      <td>645</td>\n",
       "      <td>567</td>\n",
       "      <td>843</td>\n",
       "      <td>367</td>\n",
       "      <td>579.0</td>\n",
       "      <td>756</td>\n",
       "    </tr>\n",
       "  </tbody>\n",
       "</table>\n",
       "<p>1600 rows × 8 columns</p>\n",
       "</div>"
      ],
      "text/plain": [
       "      quality_of_faculty  publications  citations  alumni_employment  \\\n",
       "325                   68           161         69                478   \n",
       "753                  210           447        800                478   \n",
       "400                  205           167         99                478   \n",
       "895                  210           754        800                230   \n",
       "409                  171           173        114                456   \n",
       "...                  ...           ...        ...                ...   \n",
       "739                  210           557        363                344   \n",
       "840                  210           521        800                478   \n",
       "808                  210           597        493                233   \n",
       "1730                 218           438        428                567   \n",
       "1872                 218           662        645                567   \n",
       "\n",
       "      influence  quality_of_education  broad_impact  patents  \n",
       "325          73                   170         118.0      100  \n",
       "753         590                   355         452.0      552  \n",
       "400         119                   166         155.0      426  \n",
       "895         952                   225         897.0      737  \n",
       "409         197                   114         180.0      338  \n",
       "...         ...                   ...           ...      ...  \n",
       "739         354                   355         472.0      637  \n",
       "840         358                   355         554.0      552  \n",
       "808         557                   355         716.0      481  \n",
       "1730        693                   213         457.0      853  \n",
       "1872        843                   367         579.0      756  \n",
       "\n",
       "[1600 rows x 8 columns]"
      ]
     },
     "execution_count": 9,
     "metadata": {},
     "output_type": "execute_result"
    }
   ],
   "source": [
    "X_train"
   ]
  },
  {
   "cell_type": "markdown",
   "metadata": {},
   "source": [
    "## 二、模型构建"
   ]
  },
  {
   "cell_type": "code",
   "execution_count": 10,
   "metadata": {
    "ExecuteTime": {
     "end_time": "2024-03-03T13:33:14.818562800Z",
     "start_time": "2024-03-03T13:33:14.735784500Z"
    }
   },
   "outputs": [
    {
     "name": "stdout",
     "output_type": "stream",
     "text": [
      "RMSE: 4.219887152247172\n",
      "R2: 0.5796124574951917\n"
     ]
    }
   ],
   "source": [
    "# 调用sk-learn库中的线性回归模型\n",
    "reg = linear_model.LinearRegression()\n",
    "reg.fit(X_train, y_train)\n",
    "y_pred = reg.predict(X_test)\n",
    "rmse = mean_squared_error(y_pred, y_test, squared=False)    #squared为Ture时，函数计算的是MSE;为False时则计算RMSE。\n",
    "print('RMSE:',rmse)    # 均方根误差\n",
    "print('R2:',r2_score(y_test,y_pred))    #决定系数"
   ]
  },
  {
   "cell_type": "markdown",
   "metadata": {
    "collapsed": false
   },
   "source": []
  },
  {
   "cell_type": "markdown",
   "metadata": {
    "collapsed": false
   },
   "source": [
    "# 三.对线性回归模型的系数进行分析"
   ]
  },
  {
   "cell_type": "markdown",
   "metadata": {
    "collapsed": false
   },
   "source": [
    "**均方根误差RMSE约为: 4.2199**\n",
    "* RMSE 小于目标变量的 10%，表示模型预测效果很好。\n",
    "\n",
    "**决定系数R<sup>2</sup>约为: 0.5796**\n",
    "* 决定系数在0.5 - 0.7范围内，说明模型可以较好地解释因变量的方差。"
   ]
  },
  {
   "cell_type": "markdown",
   "metadata": {
    "collapsed": false
   },
   "source": [
    "### 各个特征所占权重如下:"
   ]
  },
  {
   "cell_type": "code",
   "execution_count": 11,
   "metadata": {
    "ExecuteTime": {
     "end_time": "2024-03-03T13:33:14.927274100Z",
     "start_time": "2024-03-03T13:33:14.822552600Z"
    },
    "collapsed": false
   },
   "outputs": [
    {
     "data": {
      "text/html": [
       "<div>\n",
       "<style scoped>\n",
       "    .dataframe tbody tr th:only-of-type {\n",
       "        vertical-align: middle;\n",
       "    }\n",
       "\n",
       "    .dataframe tbody tr th {\n",
       "        vertical-align: top;\n",
       "    }\n",
       "\n",
       "    .dataframe thead th {\n",
       "        text-align: right;\n",
       "    }\n",
       "</style>\n",
       "<table border=\"1\" class=\"dataframe\">\n",
       "  <thead>\n",
       "    <tr style=\"text-align: right;\">\n",
       "      <th></th>\n",
       "      <th>线性回归中各个特征所占权重</th>\n",
       "    </tr>\n",
       "  </thead>\n",
       "  <tbody>\n",
       "    <tr>\n",
       "      <th>quality_of_faculty</th>\n",
       "      <td>-0.063031</td>\n",
       "    </tr>\n",
       "    <tr>\n",
       "      <th>publications</th>\n",
       "      <td>0.000392</td>\n",
       "    </tr>\n",
       "    <tr>\n",
       "      <th>citations</th>\n",
       "      <td>-0.000108</td>\n",
       "    </tr>\n",
       "    <tr>\n",
       "      <th>alumni_employment</th>\n",
       "      <td>-0.006909</td>\n",
       "    </tr>\n",
       "    <tr>\n",
       "      <th>influence</th>\n",
       "      <td>0.000241</td>\n",
       "    </tr>\n",
       "    <tr>\n",
       "      <th>quality_of_education</th>\n",
       "      <td>-0.005803</td>\n",
       "    </tr>\n",
       "    <tr>\n",
       "      <th>broad_impact</th>\n",
       "      <td>-0.002227</td>\n",
       "    </tr>\n",
       "    <tr>\n",
       "      <th>patents</th>\n",
       "      <td>-0.002344</td>\n",
       "    </tr>\n",
       "  </tbody>\n",
       "</table>\n",
       "</div>"
      ],
      "text/plain": [
       "                      线性回归中各个特征所占权重\n",
       "quality_of_faculty        -0.063031\n",
       "publications               0.000392\n",
       "citations                 -0.000108\n",
       "alumni_employment         -0.006909\n",
       "influence                  0.000241\n",
       "quality_of_education      -0.005803\n",
       "broad_impact              -0.002227\n",
       "patents                   -0.002344"
      ]
     },
     "execution_count": 11,
     "metadata": {},
     "output_type": "execute_result"
    }
   ],
   "source": [
    "coefficients =reg.coef_\n",
    "coefficients_df = pd.DataFrame(coefficients, columns=['线性回归中各个特征所占权重'], index=feature_cols)\n",
    "coefficients_df"
   ]
  },
  {
   "cell_type": "code",
   "execution_count": 12,
   "metadata": {
    "ExecuteTime": {
     "end_time": "2024-03-03T13:33:14.962179100Z",
     "start_time": "2024-03-03T13:33:14.867433100Z"
    },
    "collapsed": false
   },
   "outputs": [
    {
     "name": "stdout",
     "output_type": "stream",
     "text": [
      "截距项: 65.4157304582996\n"
     ]
    }
   ],
   "source": [
    "intercept = reg.intercept_\n",
    "print('截距项:',intercept)"
   ]
  },
  {
   "cell_type": "markdown",
   "metadata": {
    "collapsed": false
   },
   "source": [
    "**quality_of_faculty的值为-0.063031**\n",
    "* 数量级为10<sup>-2</sup>\n",
    "* 是alumni_employment，quality_of_education，broad_impact，patents数量级的10倍左右\n",
    "* 可见对结果影响最大的自变量是quality_of_faculty"
   ]
  },
  {
   "cell_type": "markdown",
   "metadata": {
    "collapsed": false
   },
   "source": [
    "# 扩展要求"
   ]
  },
  {
   "cell_type": "markdown",
   "metadata": {
    "collapsed": false
   },
   "source": [
    "## 一.计算自变量与因变量之间的皮尔逊相关系数"
   ]
  },
  {
   "cell_type": "code",
   "execution_count": 13,
   "metadata": {
    "ExecuteTime": {
     "end_time": "2024-03-03T13:33:15.087843200Z",
     "start_time": "2024-03-03T13:33:14.963176400Z"
    },
    "collapsed": false
   },
   "outputs": [
    {
     "data": {
      "text/html": [
       "<div>\n",
       "<style scoped>\n",
       "    .dataframe tbody tr th:only-of-type {\n",
       "        vertical-align: middle;\n",
       "    }\n",
       "\n",
       "    .dataframe tbody tr th {\n",
       "        vertical-align: top;\n",
       "    }\n",
       "\n",
       "    .dataframe thead th {\n",
       "        text-align: right;\n",
       "    }\n",
       "</style>\n",
       "<table border=\"1\" class=\"dataframe\">\n",
       "  <thead>\n",
       "    <tr style=\"text-align: right;\">\n",
       "      <th></th>\n",
       "      <th>feature</th>\n",
       "      <th>correlations</th>\n",
       "    </tr>\n",
       "  </thead>\n",
       "  <tbody>\n",
       "    <tr>\n",
       "      <th>0</th>\n",
       "      <td>quality_of_faculty</td>\n",
       "      <td>-0.718075</td>\n",
       "    </tr>\n",
       "    <tr>\n",
       "      <th>1</th>\n",
       "      <td>quality_of_education</td>\n",
       "      <td>-0.604385</td>\n",
       "    </tr>\n",
       "    <tr>\n",
       "      <th>2</th>\n",
       "      <td>broad_impact</td>\n",
       "      <td>-0.531590</td>\n",
       "    </tr>\n",
       "    <tr>\n",
       "      <th>3</th>\n",
       "      <td>publications</td>\n",
       "      <td>-0.526862</td>\n",
       "    </tr>\n",
       "    <tr>\n",
       "      <th>4</th>\n",
       "      <td>influence</td>\n",
       "      <td>-0.526225</td>\n",
       "    </tr>\n",
       "    <tr>\n",
       "      <th>5</th>\n",
       "      <td>citations</td>\n",
       "      <td>-0.523585</td>\n",
       "    </tr>\n",
       "    <tr>\n",
       "      <th>6</th>\n",
       "      <td>alumni_employment</td>\n",
       "      <td>-0.493508</td>\n",
       "    </tr>\n",
       "    <tr>\n",
       "      <th>7</th>\n",
       "      <td>patents</td>\n",
       "      <td>-0.460210</td>\n",
       "    </tr>\n",
       "  </tbody>\n",
       "</table>\n",
       "</div>"
      ],
      "text/plain": [
       "                feature  correlations\n",
       "0    quality_of_faculty     -0.718075\n",
       "1  quality_of_education     -0.604385\n",
       "2          broad_impact     -0.531590\n",
       "3          publications     -0.526862\n",
       "4             influence     -0.526225\n",
       "5             citations     -0.523585\n",
       "6     alumni_employment     -0.493508\n",
       "7               patents     -0.460210"
      ]
     },
     "execution_count": 13,
     "metadata": {},
     "output_type": "execute_result"
    }
   ],
   "source": [
    "correlations = X.apply(lambda x: x.corr(y))\n",
    "correlations.sort_values(ascending=True,inplace=True)\n",
    "correlations.reset_index().rename(columns={'index':'feature', 0:'correlations'})"
   ]
  },
  {
   "cell_type": "code",
   "execution_count": 14,
   "metadata": {
    "ExecuteTime": {
     "end_time": "2024-03-03T13:33:15.352138400Z",
     "start_time": "2024-03-03T13:33:15.062909500Z"
    },
    "collapsed": false
   },
   "outputs": [
    {
     "data": {
      "image/png": "[encoded data removed]",
      "text/plain": [
       "<Figure size 1200x600 with 1 Axes>"
      ]
     },
     "metadata": {},
     "output_type": "display_data"
    }
   ],
   "source": [
    "# 支持中文\n",
    "plt.rcParams['font.family'] = ['sans-serif']\n",
    "plt.rcParams['font.sans-serif'] = ['SimHei']\n",
    "# 防止负数乱码\n",
    "plt.rcParams['axes.unicode_minus']=False\n",
    "\n",
    "plt.figure(figsize=(12, 6))\n",
    "correlations.plot(kind='bar')\n",
    "plt.title('各个特征的皮尔逊相关系数')\n",
    "plt.ylabel('皮尔逊相关系数')\n",
    "plt.xticks(rotation=45)\n",
    "plt.grid(axis='y')\n",
    "plt.show()"
   ]
  },
  {
   "cell_type": "markdown",
   "metadata": {
    "collapsed": false
   },
   "source": [
    "### 总结:\n",
    "1. 如图的八个自变量对因变量‘score’都有一定程度上的线性相关，且都为负相关，即变量值越大，得分越低\n",
    "2. quality_of_faculty和quality_of_education这两个变量和score的线性相关程度比较高"
   ]
  },
  {
   "cell_type": "markdown",
   "metadata": {
    "collapsed": false
   },
   "source": [
    "## 二.尝试其他的回归模型\n",
    "**1.尝试支持向量回归**"
   ]
  },
  {
   "cell_type": "code",
   "execution_count": 15,
   "metadata": {
    "ExecuteTime": {
     "end_time": "2024-03-03T13:33:15.356126100Z",
     "start_time": "2024-03-03T13:33:15.329198600Z"
    },
    "collapsed": false
   },
   "outputs": [],
   "source": [
    "from sklearn.preprocessing import StandardScaler\n",
    "from sklearn.svm import SVR"
   ]
  },
  {
   "cell_type": "code",
   "execution_count": 16,
   "metadata": {
    "ExecuteTime": {
     "end_time": "2024-03-03T13:33:15.456856600Z",
     "start_time": "2024-03-03T13:33:15.345155500Z"
    },
    "collapsed": false
   },
   "outputs": [],
   "source": [
    "# 进行特征缩放\n",
    "scaler = StandardScaler()\n",
    "X_train = scaler.fit_transform(X_train)\n",
    "X_test = scaler.transform(X_test)"
   ]
  },
  {
   "cell_type": "code",
   "execution_count": 17,
   "metadata": {
    "ExecuteTime": {
     "end_time": "2024-03-03T13:33:15.616431200Z",
     "start_time": "2024-03-03T13:33:15.361112800Z"
    },
    "collapsed": false
   },
   "outputs": [
    {
     "name": "stdout",
     "output_type": "stream",
     "text": [
      "Root Mean Squared Error: 3.726484748011338\n",
      "R2: 0.6721713845283088\n"
     ]
    }
   ],
   "source": [
    "# 建立svr模型并训练\n",
    "svr = SVR()\n",
    "svr.fit(X_train, y_train)\n",
    "\n",
    "# 进行模型预测，并计算均方误差\n",
    "y_pred = svr.predict(X_test)\n",
    "rmse = mean_squared_error(y_test, y_pred, squared=False)\n",
    "print('Root Mean Squared Error:', rmse)\n",
    "print('R2:',r2_score(y_test,y_pred))    #决定系数"
   ]
  },
  {
   "cell_type": "markdown",
   "metadata": {
    "collapsed": false
   },
   "source": [
    "**2.尝试决策树回归**"
   ]
  },
  {
   "cell_type": "code",
   "execution_count": 18,
   "metadata": {
    "ExecuteTime": {
     "end_time": "2024-03-03T13:33:15.677267700Z",
     "start_time": "2024-03-03T13:33:15.597480900Z"
    },
    "collapsed": false
   },
   "outputs": [
    {
     "name": "stdout",
     "output_type": "stream",
     "text": [
      "Root Mean Squared Error: 0.8562771163589511\n",
      "R2: 0.9826908062545862\n"
     ]
    }
   ],
   "source": [
    "from sklearn.tree import DecisionTreeRegressor\n",
    "dt_regressor = DecisionTreeRegressor()\n",
    "dt_regressor.fit(X_train, y_train)\n",
    "y_pred = dt_regressor.predict(X_test)\n",
    "rmse = mean_squared_error(y_test, y_pred, squared=False)\n",
    "print('Root Mean Squared Error:', rmse)\n",
    "print('R2:',r2_score(y_test,y_pred))    #决定系数"
   ]
  },
  {
   "cell_type": "markdown",
   "metadata": {
    "collapsed": false
   },
   "source": [
    "**3.尝试随机森林回归**"
   ]
  },
  {
   "cell_type": "code",
   "execution_count": 19,
   "metadata": {
    "ExecuteTime": {
     "end_time": "2024-03-03T13:33:15.696216200Z",
     "start_time": "2024-03-03T13:33:15.641364200Z"
    },
    "collapsed": false
   },
   "outputs": [],
   "source": [
    "from sklearn.ensemble import RandomForestRegressor"
   ]
  },
  {
   "cell_type": "code",
   "execution_count": 20,
   "metadata": {
    "ExecuteTime": {
     "end_time": "2024-03-03T13:33:18.757033400Z",
     "start_time": "2024-03-03T13:33:15.657320100Z"
    },
    "collapsed": false
   },
   "outputs": [
    {
     "name": "stdout",
     "output_type": "stream",
     "text": [
      "Root Mean Squared Error: 0.6933834387804471\n",
      "R2: 0.988650020101593\n"
     ]
    }
   ],
   "source": [
    "# 建立随机森林模型并训练\n",
    "rf_regressor = RandomForestRegressor()\n",
    "rf_regressor.fit(X_train, y_train)\n",
    "\n",
    "# 进行模型预测，并计算均方误差\n",
    "y_pred = rf_regressor.predict(X_test)\n",
    "rmse = mean_squared_error(y_test, y_pred, squared=False)\n",
    "print('Root Mean Squared Error:', rmse)\n",
    "print('R2:',r2_score(y_test,y_pred))    #决定系数"
   ]
  },
  {
   "cell_type": "markdown",
   "metadata": {
    "collapsed": false
   },
   "source": [
    "### 总结:\n",
    "如果我没做错的话，这个结果还是让我感觉蛮震惊的。尝试了其他三种回归模型，分别是**支持向量回归，决策树回归，随机森林回归**\n",
    "* 线性回归的RMSE约为: 4.2199\n",
    "* 支持向量回归的RMSE约为: 3.7265\n",
    "* 决策树的RMSE约为: 0.85   （每次运行结果都不同，但一般都在这个值附近）\n",
    "* 随机森林的RMSE约为: 0.66  （每次运行结果都不同，但一般都在这个值附近）\n",
    "没想到线性回归的RMSE误差是最大的，但最让我感到惊奇的是决策树的误差居然这么小！"
   ]
  },
  {
   "cell_type": "markdown",
   "metadata": {
    "collapsed": false
   },
   "source": [
    "## 三.尝试将离散的地区特征融入线性回归模型，并对结果进行对比"
   ]
  },
  {
   "cell_type": "code",
   "execution_count": 21,
   "metadata": {
    "ExecuteTime": {
     "end_time": "2024-03-03T13:33:18.792936400Z",
     "start_time": "2024-03-03T13:33:18.761022800Z"
    },
    "collapsed": false
   },
   "outputs": [],
   "source": [
    "feature_cols = ['quality_of_faculty', 'publications', 'citations', 'alumni_employment', 'influence',\n",
    "                'quality_of_education', 'broad_impact', 'patents', 'region']\n",
    "X = data_df[feature_cols]\n",
    "y = data_df['score']"
   ]
  },
  {
   "cell_type": "code",
   "execution_count": 22,
   "metadata": {},
   "outputs": [
    {
     "data": {
      "text/html": [
       "<div>\n",
       "<style scoped>\n",
       "    .dataframe tbody tr th:only-of-type {\n",
       "        vertical-align: middle;\n",
       "    }\n",
       "\n",
       "    .dataframe tbody tr th {\n",
       "        vertical-align: top;\n",
       "    }\n",
       "\n",
       "    .dataframe thead th {\n",
       "        text-align: right;\n",
       "    }\n",
       "</style>\n",
       "<table border=\"1\" class=\"dataframe\">\n",
       "  <thead>\n",
       "    <tr style=\"text-align: right;\">\n",
       "      <th></th>\n",
       "      <th>quality_of_faculty</th>\n",
       "      <th>publications</th>\n",
       "      <th>citations</th>\n",
       "      <th>alumni_employment</th>\n",
       "      <th>influence</th>\n",
       "      <th>quality_of_education</th>\n",
       "      <th>broad_impact</th>\n",
       "      <th>patents</th>\n",
       "      <th>region</th>\n",
       "    </tr>\n",
       "  </thead>\n",
       "  <tbody>\n",
       "    <tr>\n",
       "      <th>200</th>\n",
       "      <td>1</td>\n",
       "      <td>1</td>\n",
       "      <td>1</td>\n",
       "      <td>1</td>\n",
       "      <td>1</td>\n",
       "      <td>1</td>\n",
       "      <td>1.0</td>\n",
       "      <td>2</td>\n",
       "      <td>USA</td>\n",
       "    </tr>\n",
       "    <tr>\n",
       "      <th>201</th>\n",
       "      <td>4</td>\n",
       "      <td>5</td>\n",
       "      <td>3</td>\n",
       "      <td>2</td>\n",
       "      <td>3</td>\n",
       "      <td>11</td>\n",
       "      <td>4.0</td>\n",
       "      <td>6</td>\n",
       "      <td>USA</td>\n",
       "    </tr>\n",
       "    <tr>\n",
       "      <th>202</th>\n",
       "      <td>2</td>\n",
       "      <td>15</td>\n",
       "      <td>2</td>\n",
       "      <td>11</td>\n",
       "      <td>2</td>\n",
       "      <td>3</td>\n",
       "      <td>2.0</td>\n",
       "      <td>1</td>\n",
       "      <td>USA</td>\n",
       "    </tr>\n",
       "    <tr>\n",
       "      <th>203</th>\n",
       "      <td>5</td>\n",
       "      <td>10</td>\n",
       "      <td>12</td>\n",
       "      <td>10</td>\n",
       "      <td>9</td>\n",
       "      <td>2</td>\n",
       "      <td>13.0</td>\n",
       "      <td>48</td>\n",
       "      <td>United Kingdom</td>\n",
       "    </tr>\n",
       "    <tr>\n",
       "      <th>204</th>\n",
       "      <td>10</td>\n",
       "      <td>11</td>\n",
       "      <td>11</td>\n",
       "      <td>12</td>\n",
       "      <td>12</td>\n",
       "      <td>7</td>\n",
       "      <td>12.0</td>\n",
       "      <td>16</td>\n",
       "      <td>United Kingdom</td>\n",
       "    </tr>\n",
       "    <tr>\n",
       "      <th>...</th>\n",
       "      <td>...</td>\n",
       "      <td>...</td>\n",
       "      <td>...</td>\n",
       "      <td>...</td>\n",
       "      <td>...</td>\n",
       "      <td>...</td>\n",
       "      <td>...</td>\n",
       "      <td>...</td>\n",
       "      <td>...</td>\n",
       "    </tr>\n",
       "    <tr>\n",
       "      <th>2195</th>\n",
       "      <td>218</td>\n",
       "      <td>926</td>\n",
       "      <td>812</td>\n",
       "      <td>567</td>\n",
       "      <td>845</td>\n",
       "      <td>367</td>\n",
       "      <td>969.0</td>\n",
       "      <td>816</td>\n",
       "      <td>Portugal</td>\n",
       "    </tr>\n",
       "    <tr>\n",
       "      <th>2196</th>\n",
       "      <td>218</td>\n",
       "      <td>997</td>\n",
       "      <td>645</td>\n",
       "      <td>566</td>\n",
       "      <td>908</td>\n",
       "      <td>236</td>\n",
       "      <td>981.0</td>\n",
       "      <td>871</td>\n",
       "      <td>Egypt</td>\n",
       "    </tr>\n",
       "    <tr>\n",
       "      <th>2197</th>\n",
       "      <td>218</td>\n",
       "      <td>830</td>\n",
       "      <td>812</td>\n",
       "      <td>549</td>\n",
       "      <td>823</td>\n",
       "      <td>367</td>\n",
       "      <td>975.0</td>\n",
       "      <td>824</td>\n",
       "      <td>Brazil</td>\n",
       "    </tr>\n",
       "    <tr>\n",
       "      <th>2198</th>\n",
       "      <td>218</td>\n",
       "      <td>886</td>\n",
       "      <td>812</td>\n",
       "      <td>567</td>\n",
       "      <td>974</td>\n",
       "      <td>367</td>\n",
       "      <td>975.0</td>\n",
       "      <td>651</td>\n",
       "      <td>Spain</td>\n",
       "    </tr>\n",
       "    <tr>\n",
       "      <th>2199</th>\n",
       "      <td>218</td>\n",
       "      <td>861</td>\n",
       "      <td>812</td>\n",
       "      <td>567</td>\n",
       "      <td>991</td>\n",
       "      <td>367</td>\n",
       "      <td>981.0</td>\n",
       "      <td>547</td>\n",
       "      <td>China</td>\n",
       "    </tr>\n",
       "  </tbody>\n",
       "</table>\n",
       "<p>2000 rows × 9 columns</p>\n",
       "</div>"
      ],
      "text/plain": [
       "      quality_of_faculty  publications  citations  alumni_employment  \\\n",
       "200                    1             1          1                  1   \n",
       "201                    4             5          3                  2   \n",
       "202                    2            15          2                 11   \n",
       "203                    5            10         12                 10   \n",
       "204                   10            11         11                 12   \n",
       "...                  ...           ...        ...                ...   \n",
       "2195                 218           926        812                567   \n",
       "2196                 218           997        645                566   \n",
       "2197                 218           830        812                549   \n",
       "2198                 218           886        812                567   \n",
       "2199                 218           861        812                567   \n",
       "\n",
       "      influence  quality_of_education  broad_impact  patents          region  \n",
       "200           1                     1           1.0        2             USA  \n",
       "201           3                    11           4.0        6             USA  \n",
       "202           2                     3           2.0        1             USA  \n",
       "203           9                     2          13.0       48  United Kingdom  \n",
       "204          12                     7          12.0       16  United Kingdom  \n",
       "...         ...                   ...           ...      ...             ...  \n",
       "2195        845                   367         969.0      816        Portugal  \n",
       "2196        908                   236         981.0      871           Egypt  \n",
       "2197        823                   367         975.0      824          Brazil  \n",
       "2198        974                   367         975.0      651           Spain  \n",
       "2199        991                   367         981.0      547           China  \n",
       "\n",
       "[2000 rows x 9 columns]"
      ]
     },
     "execution_count": 22,
     "metadata": {},
     "output_type": "execute_result"
    }
   ],
   "source": [
    "X"
   ]
  },
  {
   "cell_type": "code",
   "execution_count": 23,
   "metadata": {
    "ExecuteTime": {
     "end_time": "2024-03-03T13:33:18.841810600Z",
     "start_time": "2024-03-03T13:33:18.777976800Z"
    },
    "collapsed": false
   },
   "outputs": [
    {
     "data": {
      "text/plain": [
       "((2000, 9), (2000,), (1600, 67), (400, 67), (1600,), (400,))"
      ]
     },
     "execution_count": 23,
     "metadata": {},
     "output_type": "execute_result"
    }
   ],
   "source": [
    "# 对region特征进行one-hot编码\n",
    "X_encoded = pd.get_dummies(X, columns=['region'])\n",
    "# 划分数据集为训练集和测试集\n",
    "X_train, X_test, y_train, y_test = train_test_split(X_encoded, y, test_size=0.2, random_state=RANDOM_SEED)\n",
    "X.shape, y.shape, X_train.shape, X_test.shape, y_train.shape, y_test.shape # 输出数据行列信息"
   ]
  },
  {
   "cell_type": "markdown",
   "metadata": {
    "collapsed": false
   },
   "source": [
    "### 融入离散地区特征后的线性回归模型"
   ]
  },
  {
   "cell_type": "code",
   "execution_count": 24,
   "metadata": {
    "ExecuteTime": {
     "end_time": "2024-03-03T13:33:18.843800300Z",
     "start_time": "2024-03-03T13:33:18.802910200Z"
    },
    "collapsed": false
   },
   "outputs": [
    {
     "name": "stdout",
     "output_type": "stream",
     "text": [
      "RMSE: 4.201123757955341\n",
      "R2: 0.5833425860394168\n"
     ]
    }
   ],
   "source": [
    "# 调用sk-learn库中的线性回归模型\n",
    "reg = linear_model.LinearRegression()\n",
    "reg.fit(X_train, y_train)\n",
    "y_pred = reg.predict(X_test)\n",
    "rmse = mean_squared_error(y_pred, y_test, squared=False)    #squared为Ture时，函数计算的是MSE;为False时则计算RMSE。\n",
    "print('RMSE:',rmse)    # 均方根误差\n",
    "print('R2:',r2_score(y_test,y_pred))    #决定系数"
   ]
  },
  {
   "cell_type": "markdown",
   "metadata": {
    "collapsed": false
   },
   "source": []
  },
  {
   "cell_type": "markdown",
   "metadata": {
    "collapsed": false
   },
   "source": [
    "### 融入离散地区特征后的随机森林回归模型"
   ]
  },
  {
   "cell_type": "code",
   "execution_count": 25,
   "metadata": {
    "ExecuteTime": {
     "end_time": "2024-03-03T13:33:21.512664100Z",
     "start_time": "2024-03-03T13:33:18.834824600Z"
    },
    "collapsed": false
   },
   "outputs": [
    {
     "name": "stdout",
     "output_type": "stream",
     "text": [
      "Root Mean Squared Error: 0.7790147944358895\n",
      "R2: 0.9856735174718435\n"
     ]
    }
   ],
   "source": [
    "# 调用随机森林回归模型进行对比\n",
    "rf_regressor = RandomForestRegressor()\n",
    "rf_regressor.fit(X_train, y_train)\n",
    "\n",
    "# 进行模型预测，并计算均方误差\n",
    "y_pred = rf_regressor.predict(X_test)\n",
    "rmse = mean_squared_error(y_test, y_pred, squared=False)\n",
    "print('Root Mean Squared Error:', rmse)\n",
    "print('R2:',r2_score(y_test,y_pred))    #决定系数"
   ]
  },
  {
   "cell_type": "markdown",
   "metadata": {
    "collapsed": false
   },
   "source": [
    "# 结论:\n",
    "* 加入离散的特征后的模型拟合效果确实会好一点，不过和初始模型的差距不大，均方根误差减小了大约0.01，决定系数增大了大约0.01\n",
    "* 其他的回归模型效果比线性回归效果好太多了，有可能特征与目标之间的关系不一定是线性的"
   ]
  }
 ],
 "metadata": {
  "kernelspec": {
   "display_name": "Python 3",
   "language": "python",
   "name": "python3"
  },
  "language_info": {
   "codemirror_mode": {
    "name": "ipython",
    "version": 3
   },
   "file_extension": ".py",
   "mimetype": "text/x-python",
   "name": "python",
   "nbconvert_exporter": "python",
   "pygments_lexer": "ipython3",
   "version": "3.9.16"
  }
 },
 "nbformat": 4,
 "nbformat_minor": 4
}
