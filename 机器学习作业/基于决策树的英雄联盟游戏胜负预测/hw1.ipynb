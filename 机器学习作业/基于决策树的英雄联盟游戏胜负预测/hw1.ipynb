{
 "cells": [
  {
   "cell_type": "markdown",
   "metadata": {},
   "source": [
    "本次以英雄联盟对局胜负预测任务为基础，要求实现决策树算法相关细节，加深对算法的理解，并了解做机器学习任务的大致流程。"
   ]
  },
  {
   "cell_type": "markdown",
   "metadata": {},
   "source": [
    "### 任务介绍\n",
    "英雄联盟（League of Legends，LoL）是一个多人在线竞技游戏，由拳头游戏（Riot Games）公司出品。在游戏中，每位玩家控制一位有独特技能的英雄，红蓝两支队伍各有五位玩家进行对战，目标是摧毁对方的基地水晶。水晶有多座防御塔保护，通常需要先摧毁一些防御塔再摧毁水晶。玩家所控制的英雄起初非常弱，需要不断击杀小兵、野怪和对方英雄来获得金币、经验。经验可以提升英雄等级和技能等级，金币可以用来购买装备提升攻击、防御等属性。对战过程中一般没有己方单位在附近的地点是没有视野的，即无法看到对面单位，双方可以通过使用守卫来监视某个地点，洞察对面走向、制定战术。\n",
    "本数据集来自[Kaggle](https://www.kaggle.com/bobbyscience/league-of-legends-diamond-ranked-games-10-min)，包含了9879场钻一到大师段位的单双排对局，对局双方几乎是同一水平。每条数据是前10分钟的对局情况，每支队伍有19个特征，红蓝双方共38个特征。这些特征包括英雄击杀、死亡，金钱、经验、等级情况等等。一局游戏一般会持续30至40分钟，但是实际前10分钟的局面很大程度上影响了之后胜负的走向。作为最成功的电子竞技游戏之一，对局数据、选手数据的量化与研究具有重要意义，可以启发游戏将来的发展和改进。\n",
    "\n",
    "本任务是希望同学们依据注释的要求，对代码中空缺部分进行填写，**完成决策树模型的详细实现**，根据已有的对局前10分钟特征信息，预测最后获胜方是蓝色方还是红色方，了解执行一个**机器学习任务的大致流程**，并**提交代码和实验报告**。第一次作业也是一个机器学习小实验的例子，之后的作业可能不再提供预处理等流程代码，由同学们自己设计实验完成代码编写。"
   ]
  },
  {
   "cell_type": "markdown",
   "metadata": {},
   "source": [
    "### 导入工具包\n",
    "pandas是数据分析和处理常用的工具包，非常适合处理行列表格数据。numpy是数学运算工具包，支持高效的矩阵、向量运算。sklearn是机器学习常用工具包，包括了一些已经实现好的简单模型和一些常用数据处理方法、评价指标等函数。"
   ]
  },
  {
   "cell_type": "code",
   "execution_count": 162,
   "metadata": {
    "ExecuteTime": {
     "end_time": "2024-03-01T15:48:16.912086800Z",
     "start_time": "2024-03-01T15:48:16.857233300Z"
    }
   },
   "outputs": [],
   "source": [
    "from collections import Counter\n",
    "import pandas as pd # 数据处理\n",
    "import numpy as np # 数学运算\n",
    "from sklearn.model_selection import train_test_split, cross_validate # 划分数据集函数\n",
    "from sklearn.metrics import accuracy_score # 准确率函数\n",
    "RANDOM_SEED = 2020 # 固定随机种子"
   ]
  },
  {
   "cell_type": "markdown",
   "metadata": {},
   "source": [
    "### 读入数据\n",
    "假设数据文件放在`./data/`目录下，标准的csv文件可以用pandas里的`read_csv()`函数直接读入。文件共有40列，38个特征（红蓝方各19），1个标签列（blueWins），和一个对局标号（gameId）。对局标号不是标签也不是特征，可以舍去。"
   ]
  },
  {
   "cell_type": "code",
   "execution_count": 163,
   "metadata": {
    "scrolled": false,
    "ExecuteTime": {
     "end_time": "2024-03-01T15:48:16.994863800Z",
     "start_time": "2024-03-01T15:48:16.917072400Z"
    }
   },
   "outputs": [
    {
     "data": {
      "text/plain": "   blueWins  blueWardsPlaced  blueWardsDestroyed  blueFirstBlood  blueKills  \\\n0         0               28                   2               1          9   \n1         0               12                   1               0          5   \n2         0               15                   0               0          7   \n3         0               43                   1               0          4   \n4         0               75                   4               0          6   \n\n   blueDeaths  blueAssists  blueEliteMonsters  blueDragons  blueHeralds  ...  \\\n0           6           11                  0            0            0  ...   \n1           5            5                  0            0            0  ...   \n2          11            4                  1            1            0  ...   \n3           5            5                  1            0            1  ...   \n4           6            6                  0            0            0  ...   \n\n   redTowersDestroyed  redTotalGold  redAvgLevel  redTotalExperience  \\\n0                   0         16567          6.8               17047   \n1                   1         17620          6.8               17438   \n2                   0         17285          6.8               17254   \n3                   0         16478          7.0               17961   \n4                   0         17404          7.0               18313   \n\n   redTotalMinionsKilled  redTotalJungleMinionsKilled  redGoldDiff  \\\n0                    197                           55         -643   \n1                    240                           52         2908   \n2                    203                           28         1172   \n3                    235                           47         1321   \n4                    225                           67         1004   \n\n   redExperienceDiff  redCSPerMin  redGoldPerMin  \n0                  8         19.7         1656.7  \n1               1173         24.0         1762.0  \n2               1033         20.3         1728.5  \n3                  7         23.5         1647.8  \n4               -230         22.5         1740.4  \n\n[5 rows x 39 columns]",
      "text/html": "<div>\n<style scoped>\n    .dataframe tbody tr th:only-of-type {\n        vertical-align: middle;\n    }\n\n    .dataframe tbody tr th {\n        vertical-align: top;\n    }\n\n    .dataframe thead th {\n        text-align: right;\n    }\n</style>\n<table border=\"1\" class=\"dataframe\">\n  <thead>\n    <tr style=\"text-align: right;\">\n      <th></th>\n      <th>blueWins</th>\n      <th>blueWardsPlaced</th>\n      <th>blueWardsDestroyed</th>\n      <th>blueFirstBlood</th>\n      <th>blueKills</th>\n      <th>blueDeaths</th>\n      <th>blueAssists</th>\n      <th>blueEliteMonsters</th>\n      <th>blueDragons</th>\n      <th>blueHeralds</th>\n      <th>...</th>\n      <th>redTowersDestroyed</th>\n      <th>redTotalGold</th>\n      <th>redAvgLevel</th>\n      <th>redTotalExperience</th>\n      <th>redTotalMinionsKilled</th>\n      <th>redTotalJungleMinionsKilled</th>\n      <th>redGoldDiff</th>\n      <th>redExperienceDiff</th>\n      <th>redCSPerMin</th>\n      <th>redGoldPerMin</th>\n    </tr>\n  </thead>\n  <tbody>\n    <tr>\n      <th>0</th>\n      <td>0</td>\n      <td>28</td>\n      <td>2</td>\n      <td>1</td>\n      <td>9</td>\n      <td>6</td>\n      <td>11</td>\n      <td>0</td>\n      <td>0</td>\n      <td>0</td>\n      <td>...</td>\n      <td>0</td>\n      <td>16567</td>\n      <td>6.8</td>\n      <td>17047</td>\n      <td>197</td>\n      <td>55</td>\n      <td>-643</td>\n      <td>8</td>\n      <td>19.7</td>\n      <td>1656.7</td>\n    </tr>\n    <tr>\n      <th>1</th>\n      <td>0</td>\n      <td>12</td>\n      <td>1</td>\n      <td>0</td>\n      <td>5</td>\n      <td>5</td>\n      <td>5</td>\n      <td>0</td>\n      <td>0</td>\n      <td>0</td>\n      <td>...</td>\n      <td>1</td>\n      <td>17620</td>\n      <td>6.8</td>\n      <td>17438</td>\n      <td>240</td>\n      <td>52</td>\n      <td>2908</td>\n      <td>1173</td>\n      <td>24.0</td>\n      <td>1762.0</td>\n    </tr>\n    <tr>\n      <th>2</th>\n      <td>0</td>\n      <td>15</td>\n      <td>0</td>\n      <td>0</td>\n      <td>7</td>\n      <td>11</td>\n      <td>4</td>\n      <td>1</td>\n      <td>1</td>\n      <td>0</td>\n      <td>...</td>\n      <td>0</td>\n      <td>17285</td>\n      <td>6.8</td>\n      <td>17254</td>\n      <td>203</td>\n      <td>28</td>\n      <td>1172</td>\n      <td>1033</td>\n      <td>20.3</td>\n      <td>1728.5</td>\n    </tr>\n    <tr>\n      <th>3</th>\n      <td>0</td>\n      <td>43</td>\n      <td>1</td>\n      <td>0</td>\n      <td>4</td>\n      <td>5</td>\n      <td>5</td>\n      <td>1</td>\n      <td>0</td>\n      <td>1</td>\n      <td>...</td>\n      <td>0</td>\n      <td>16478</td>\n      <td>7.0</td>\n      <td>17961</td>\n      <td>235</td>\n      <td>47</td>\n      <td>1321</td>\n      <td>7</td>\n      <td>23.5</td>\n      <td>1647.8</td>\n    </tr>\n    <tr>\n      <th>4</th>\n      <td>0</td>\n      <td>75</td>\n      <td>4</td>\n      <td>0</td>\n      <td>6</td>\n      <td>6</td>\n      <td>6</td>\n      <td>0</td>\n      <td>0</td>\n      <td>0</td>\n      <td>...</td>\n      <td>0</td>\n      <td>17404</td>\n      <td>7.0</td>\n      <td>18313</td>\n      <td>225</td>\n      <td>67</td>\n      <td>1004</td>\n      <td>-230</td>\n      <td>22.5</td>\n      <td>1740.4</td>\n    </tr>\n  </tbody>\n</table>\n<p>5 rows × 39 columns</p>\n</div>"
     },
     "execution_count": 163,
     "metadata": {},
     "output_type": "execute_result"
    }
   ],
   "source": [
    "csv_data = './data/high_diamond_ranked_10min.csv' # 数据路径\n",
    "data_df = pd.read_csv(csv_data, sep=',') # 读入csv文件为pandas的DataFrame\n",
    "data_df = data_df.drop(columns='gameId') # 舍去对局标号列\n",
    "data_df.head()"
   ]
  },
  {
   "cell_type": "markdown",
   "metadata": {},
   "source": [
    "###  数据概览\n",
    "对于一个机器学习问题，在拿到任务和数据后，首先需要观察数据的情况，比如我们可以通过`.iloc[0]`取出数据的第一行并输出。不难看出每个特征都存成了float64浮点数，该对局蓝色方开局10分钟有小优势。同时也可以发现有些特征列是重复冗余的，比如blueGoldDiff表示蓝色队金币优势，redGoldDiff表示红色方金币优势，这两个特征是完全对称的互为相反数。blueCSPerMin是蓝色方每分钟击杀小兵数，它乘10就是10分钟所有小兵击杀数blueTotalMinionsKilled。在之后的特征处理过程中可以考虑去除这些冗余特征。\n",
    "另外，pandas有非常方便的`describe()`函数，可以直接通过DataFrame进行调用，可以展示每一列数据的一些统计信息，对数据分布情况有大致了解，比如blueKills蓝色方击杀英雄数在前十分钟的平均数是6.14、方差为2.93，中位数是6，百分之五十以上的对局中该特征在4-8之间，等等。"
   ]
  },
  {
   "cell_type": "code",
   "execution_count": 164,
   "metadata": {
    "scrolled": false,
    "ExecuteTime": {
     "end_time": "2024-03-01T15:48:17.107585800Z",
     "start_time": "2024-03-01T15:48:16.985888700Z"
    }
   },
   "outputs": [
    {
     "name": "stdout",
     "output_type": "stream",
     "text": [
      "blueWins                            0.0\n",
      "blueWardsPlaced                    28.0\n",
      "blueWardsDestroyed                  2.0\n",
      "blueFirstBlood                      1.0\n",
      "blueKills                           9.0\n",
      "blueDeaths                          6.0\n",
      "blueAssists                        11.0\n",
      "blueEliteMonsters                   0.0\n",
      "blueDragons                         0.0\n",
      "blueHeralds                         0.0\n",
      "blueTowersDestroyed                 0.0\n",
      "blueTotalGold                   17210.0\n",
      "blueAvgLevel                        6.6\n",
      "blueTotalExperience             17039.0\n",
      "blueTotalMinionsKilled            195.0\n",
      "blueTotalJungleMinionsKilled       36.0\n",
      "blueGoldDiff                      643.0\n",
      "blueExperienceDiff                 -8.0\n",
      "blueCSPerMin                       19.5\n",
      "blueGoldPerMin                   1721.0\n",
      "redWardsPlaced                     15.0\n",
      "redWardsDestroyed                   6.0\n",
      "redFirstBlood                       0.0\n",
      "redKills                            6.0\n",
      "redDeaths                           9.0\n",
      "redAssists                          8.0\n",
      "redEliteMonsters                    0.0\n",
      "redDragons                          0.0\n",
      "redHeralds                          0.0\n",
      "redTowersDestroyed                  0.0\n",
      "redTotalGold                    16567.0\n",
      "redAvgLevel                         6.8\n",
      "redTotalExperience              17047.0\n",
      "redTotalMinionsKilled             197.0\n",
      "redTotalJungleMinionsKilled        55.0\n",
      "redGoldDiff                      -643.0\n",
      "redExperienceDiff                   8.0\n",
      "redCSPerMin                        19.7\n",
      "redGoldPerMin                    1656.7\n",
      "Name: 0, dtype: float64\n"
     ]
    },
    {
     "data": {
      "text/plain": "          blueWins  blueWardsPlaced  blueWardsDestroyed  blueFirstBlood  \\\ncount  9879.000000      9879.000000         9879.000000     9879.000000   \nmean      0.499038        22.288288            2.824881        0.504808   \nstd       0.500024        18.019177            2.174998        0.500002   \nmin       0.000000         5.000000            0.000000        0.000000   \n25%       0.000000        14.000000            1.000000        0.000000   \n50%       0.000000        16.000000            3.000000        1.000000   \n75%       1.000000        20.000000            4.000000        1.000000   \nmax       1.000000       250.000000           27.000000        1.000000   \n\n         blueKills   blueDeaths  blueAssists  blueEliteMonsters  blueDragons  \\\ncount  9879.000000  9879.000000  9879.000000        9879.000000  9879.000000   \nmean      6.183925     6.137666     6.645106           0.549954     0.361980   \nstd       3.011028     2.933818     4.064520           0.625527     0.480597   \nmin       0.000000     0.000000     0.000000           0.000000     0.000000   \n25%       4.000000     4.000000     4.000000           0.000000     0.000000   \n50%       6.000000     6.000000     6.000000           0.000000     0.000000   \n75%       8.000000     8.000000     9.000000           1.000000     1.000000   \nmax      22.000000    22.000000    29.000000           2.000000     1.000000   \n\n       blueHeralds  ...  redTowersDestroyed  redTotalGold  redAvgLevel  \\\ncount  9879.000000  ...         9879.000000   9879.000000  9879.000000   \nmean      0.187974  ...            0.043021  16489.041401     6.925316   \nstd       0.390712  ...            0.216900   1490.888406     0.305311   \nmin       0.000000  ...            0.000000  11212.000000     4.800000   \n25%       0.000000  ...            0.000000  15427.500000     6.800000   \n50%       0.000000  ...            0.000000  16378.000000     7.000000   \n75%       0.000000  ...            0.000000  17418.500000     7.200000   \nmax       1.000000  ...            2.000000  22732.000000     8.200000   \n\n       redTotalExperience  redTotalMinionsKilled  redTotalJungleMinionsKilled  \\\ncount         9879.000000            9879.000000                  9879.000000   \nmean         17961.730438             217.349226                    51.313088   \nstd           1198.583912              21.911668                    10.027885   \nmin          10465.000000             107.000000                     4.000000   \n25%          17209.500000             203.000000                    44.000000   \n50%          17974.000000             218.000000                    51.000000   \n75%          18764.500000             233.000000                    57.000000   \nmax          22269.000000             289.000000                    92.000000   \n\n        redGoldDiff  redExperienceDiff  redCSPerMin  redGoldPerMin  \ncount   9879.000000        9879.000000  9879.000000    9879.000000  \nmean     -14.414111          33.620306    21.734923    1648.904140  \nstd     2453.349179        1920.370438     2.191167     149.088841  \nmin   -11467.000000       -8348.000000    10.700000    1121.200000  \n25%    -1596.000000       -1212.000000    20.300000    1542.750000  \n50%      -14.000000          28.000000    21.800000    1637.800000  \n75%     1585.500000        1290.500000    23.300000    1741.850000  \nmax    10830.000000        9333.000000    28.900000    2273.200000  \n\n[8 rows x 39 columns]",
      "text/html": "<div>\n<style scoped>\n    .dataframe tbody tr th:only-of-type {\n        vertical-align: middle;\n    }\n\n    .dataframe tbody tr th {\n        vertical-align: top;\n    }\n\n    .dataframe thead th {\n        text-align: right;\n    }\n</style>\n<table border=\"1\" class=\"dataframe\">\n  <thead>\n    <tr style=\"text-align: right;\">\n      <th></th>\n      <th>blueWins</th>\n      <th>blueWardsPlaced</th>\n      <th>blueWardsDestroyed</th>\n      <th>blueFirstBlood</th>\n      <th>blueKills</th>\n      <th>blueDeaths</th>\n      <th>blueAssists</th>\n      <th>blueEliteMonsters</th>\n      <th>blueDragons</th>\n      <th>blueHeralds</th>\n      <th>...</th>\n      <th>redTowersDestroyed</th>\n      <th>redTotalGold</th>\n      <th>redAvgLevel</th>\n      <th>redTotalExperience</th>\n      <th>redTotalMinionsKilled</th>\n      <th>redTotalJungleMinionsKilled</th>\n      <th>redGoldDiff</th>\n      <th>redExperienceDiff</th>\n      <th>redCSPerMin</th>\n      <th>redGoldPerMin</th>\n    </tr>\n  </thead>\n  <tbody>\n    <tr>\n      <th>count</th>\n      <td>9879.000000</td>\n      <td>9879.000000</td>\n      <td>9879.000000</td>\n      <td>9879.000000</td>\n      <td>9879.000000</td>\n      <td>9879.000000</td>\n      <td>9879.000000</td>\n      <td>9879.000000</td>\n      <td>9879.000000</td>\n      <td>9879.000000</td>\n      <td>...</td>\n      <td>9879.000000</td>\n      <td>9879.000000</td>\n      <td>9879.000000</td>\n      <td>9879.000000</td>\n      <td>9879.000000</td>\n      <td>9879.000000</td>\n      <td>9879.000000</td>\n      <td>9879.000000</td>\n      <td>9879.000000</td>\n      <td>9879.000000</td>\n    </tr>\n    <tr>\n      <th>mean</th>\n      <td>0.499038</td>\n      <td>22.288288</td>\n      <td>2.824881</td>\n      <td>0.504808</td>\n      <td>6.183925</td>\n      <td>6.137666</td>\n      <td>6.645106</td>\n      <td>0.549954</td>\n      <td>0.361980</td>\n      <td>0.187974</td>\n      <td>...</td>\n      <td>0.043021</td>\n      <td>16489.041401</td>\n      <td>6.925316</td>\n      <td>17961.730438</td>\n      <td>217.349226</td>\n      <td>51.313088</td>\n      <td>-14.414111</td>\n      <td>33.620306</td>\n      <td>21.734923</td>\n      <td>1648.904140</td>\n    </tr>\n    <tr>\n      <th>std</th>\n      <td>0.500024</td>\n      <td>18.019177</td>\n      <td>2.174998</td>\n      <td>0.500002</td>\n      <td>3.011028</td>\n      <td>2.933818</td>\n      <td>4.064520</td>\n      <td>0.625527</td>\n      <td>0.480597</td>\n      <td>0.390712</td>\n      <td>...</td>\n      <td>0.216900</td>\n      <td>1490.888406</td>\n      <td>0.305311</td>\n      <td>1198.583912</td>\n      <td>21.911668</td>\n      <td>10.027885</td>\n      <td>2453.349179</td>\n      <td>1920.370438</td>\n      <td>2.191167</td>\n      <td>149.088841</td>\n    </tr>\n    <tr>\n      <th>min</th>\n      <td>0.000000</td>\n      <td>5.000000</td>\n      <td>0.000000</td>\n      <td>0.000000</td>\n      <td>0.000000</td>\n      <td>0.000000</td>\n      <td>0.000000</td>\n      <td>0.000000</td>\n      <td>0.000000</td>\n      <td>0.000000</td>\n      <td>...</td>\n      <td>0.000000</td>\n      <td>11212.000000</td>\n      <td>4.800000</td>\n      <td>10465.000000</td>\n      <td>107.000000</td>\n      <td>4.000000</td>\n      <td>-11467.000000</td>\n      <td>-8348.000000</td>\n      <td>10.700000</td>\n      <td>1121.200000</td>\n    </tr>\n    <tr>\n      <th>25%</th>\n      <td>0.000000</td>\n      <td>14.000000</td>\n      <td>1.000000</td>\n      <td>0.000000</td>\n      <td>4.000000</td>\n      <td>4.000000</td>\n      <td>4.000000</td>\n      <td>0.000000</td>\n      <td>0.000000</td>\n      <td>0.000000</td>\n      <td>...</td>\n      <td>0.000000</td>\n      <td>15427.500000</td>\n      <td>6.800000</td>\n      <td>17209.500000</td>\n      <td>203.000000</td>\n      <td>44.000000</td>\n      <td>-1596.000000</td>\n      <td>-1212.000000</td>\n      <td>20.300000</td>\n      <td>1542.750000</td>\n    </tr>\n    <tr>\n      <th>50%</th>\n      <td>0.000000</td>\n      <td>16.000000</td>\n      <td>3.000000</td>\n      <td>1.000000</td>\n      <td>6.000000</td>\n      <td>6.000000</td>\n      <td>6.000000</td>\n      <td>0.000000</td>\n      <td>0.000000</td>\n      <td>0.000000</td>\n      <td>...</td>\n      <td>0.000000</td>\n      <td>16378.000000</td>\n      <td>7.000000</td>\n      <td>17974.000000</td>\n      <td>218.000000</td>\n      <td>51.000000</td>\n      <td>-14.000000</td>\n      <td>28.000000</td>\n      <td>21.800000</td>\n      <td>1637.800000</td>\n    </tr>\n    <tr>\n      <th>75%</th>\n      <td>1.000000</td>\n      <td>20.000000</td>\n      <td>4.000000</td>\n      <td>1.000000</td>\n      <td>8.000000</td>\n      <td>8.000000</td>\n      <td>9.000000</td>\n      <td>1.000000</td>\n      <td>1.000000</td>\n      <td>0.000000</td>\n      <td>...</td>\n      <td>0.000000</td>\n      <td>17418.500000</td>\n      <td>7.200000</td>\n      <td>18764.500000</td>\n      <td>233.000000</td>\n      <td>57.000000</td>\n      <td>1585.500000</td>\n      <td>1290.500000</td>\n      <td>23.300000</td>\n      <td>1741.850000</td>\n    </tr>\n    <tr>\n      <th>max</th>\n      <td>1.000000</td>\n      <td>250.000000</td>\n      <td>27.000000</td>\n      <td>1.000000</td>\n      <td>22.000000</td>\n      <td>22.000000</td>\n      <td>29.000000</td>\n      <td>2.000000</td>\n      <td>1.000000</td>\n      <td>1.000000</td>\n      <td>...</td>\n      <td>2.000000</td>\n      <td>22732.000000</td>\n      <td>8.200000</td>\n      <td>22269.000000</td>\n      <td>289.000000</td>\n      <td>92.000000</td>\n      <td>10830.000000</td>\n      <td>9333.000000</td>\n      <td>28.900000</td>\n      <td>2273.200000</td>\n    </tr>\n  </tbody>\n</table>\n<p>8 rows × 39 columns</p>\n</div>"
     },
     "execution_count": 164,
     "metadata": {},
     "output_type": "execute_result"
    }
   ],
   "source": [
    "print(data_df.iloc[0]) # 输出第一行数据\n",
    "data_df.describe() # 每列特征的简单统计信息"
   ]
  },
  {
   "cell_type": "markdown",
   "metadata": {},
   "source": [
    "### 增删特征\n",
    "传统的机器学习模型大部分都是基于特征的，因此特征工程是机器学习中非常重要的一步。有时构造一个好的特征比改进一个模型带来的提升更大。这里简单展示一些特征处理的例子。首先，上面提到，特征列中有些特征信息是完全冗余的，会给模型带来不必要的计算量，可以去除。其次，相比于红蓝双方击杀、助攻的绝对值，可能双方击杀英雄的差值更能体现出当前对战的局势。因此，我们可以构造红蓝双方对应特征的差值。数据文件中已有的差值是金币差GoldDiff和经验差ExperienceDiff，实际上每个对应特征都可以构造这样的差值特征。"
   ]
  },
  {
   "cell_type": "code",
   "execution_count": 165,
   "metadata": {
    "ExecuteTime": {
     "end_time": "2024-03-01T15:48:17.132533900Z",
     "start_time": "2024-03-01T15:48:17.097588900Z"
    }
   },
   "outputs": [],
   "source": [
    "drop_features = ['blueGoldDiff', 'redGoldDiff', \n",
    "                 'blueExperienceDiff', 'redExperienceDiff', \n",
    "                 'blueCSPerMin', 'redCSPerMin', \n",
    "                 'blueGoldPerMin', 'redGoldPerMin'] # 需要舍去的特征列\n",
    "df = data_df.drop(columns=drop_features) # 舍去特征列\n",
    "info_names = [c[3:] for c in df.columns if c.startswith('red')] # 取出要作差值的特征名字（除去red前缀）"
   ]
  },
  {
   "cell_type": "code",
   "execution_count": 166,
   "metadata": {
    "collapsed": false,
    "ExecuteTime": {
     "end_time": "2024-03-01T15:48:17.159458500Z",
     "start_time": "2024-03-01T15:48:17.114543500Z"
    }
   },
   "outputs": [
    {
     "data": {
      "text/plain": "      blueWins  blueWardsPlaced  blueWardsDestroyed  blueKills  blueDeaths  \\\n0            0               28                   2          9           6   \n1            0               12                   1          5           5   \n2            0               15                   0          7          11   \n3            0               43                   1          4           5   \n4            0               75                   4          6           6   \n...        ...              ...                 ...        ...         ...   \n9874         1               17                   2          7           4   \n9875         1               54                   0          6           4   \n9876         0               23                   1          6           7   \n9877         0               14                   4          2           3   \n9878         1               18                   0          6           6   \n\n      blueAssists  blueEliteMonsters  blueDragons  blueHeralds  \\\n0              11                  0            0            0   \n1               5                  0            0            0   \n2               4                  1            1            0   \n3               5                  1            0            1   \n4               6                  0            0            0   \n...           ...                ...          ...          ...   \n9874            5                  1            1            0   \n9875            8                  1            1            0   \n9876            5                  0            0            0   \n9877            3                  1            1            0   \n9878            5                  0            0            0   \n\n      blueTowersDestroyed  ...  brAssists  brEliteMonsters  brDragons  \\\n0                       0  ...          3                0          0   \n1                       0  ...          3               -2         -1   \n2                       0  ...        -10                1          1   \n3                       0  ...         -5                1          0   \n4                       0  ...         -1               -1         -1   \n...                   ...  ...        ...              ...        ...   \n9874                    0  ...         -2                1          1   \n9875                    0  ...          5                1          1   \n9876                    0  ...         -6               -1         -1   \n9877                    0  ...          2                1          1   \n9878                    0  ...          1               -1         -1   \n\n      brHeralds  brTowersDestroyed  brTotalGold  brAvgLevel  \\\n0             0                  0          643        -0.2   \n1            -1                 -1        -2908        -0.2   \n2             0                  0        -1172        -0.4   \n3             1                  0        -1321         0.0   \n4             0                  0        -1004         0.0   \n...         ...                ...          ...         ...   \n9874          0                  0         2519         0.4   \n9875          0                  0          782         0.2   \n9876          0                  0        -2416        -0.4   \n9877          0                  0         -839        -0.6   \n9878          0                  0          927         0.2   \n\n      brTotalExperience  brTotalMinionsKilled  brTotalJungleMinionsKilled  \n0                    -8                    -2                         -19  \n1                 -1173                   -66                          -9  \n2                 -1033                   -17                          18  \n3                    -7                   -34                           8  \n4                   230                   -15                         -10  \n...                 ...                   ...                         ...  \n9874               2469                   -18                          35  \n9875                888                    27                          -8  \n9876              -1877                   -51                         -15  \n9877              -1085                   -23                           8  \n9878                -58                     6                          -2  \n\n[9879 rows x 44 columns]",
      "text/html": "<div>\n<style scoped>\n    .dataframe tbody tr th:only-of-type {\n        vertical-align: middle;\n    }\n\n    .dataframe tbody tr th {\n        vertical-align: top;\n    }\n\n    .dataframe thead th {\n        text-align: right;\n    }\n</style>\n<table border=\"1\" class=\"dataframe\">\n  <thead>\n    <tr style=\"text-align: right;\">\n      <th></th>\n      <th>blueWins</th>\n      <th>blueWardsPlaced</th>\n      <th>blueWardsDestroyed</th>\n      <th>blueKills</th>\n      <th>blueDeaths</th>\n      <th>blueAssists</th>\n      <th>blueEliteMonsters</th>\n      <th>blueDragons</th>\n      <th>blueHeralds</th>\n      <th>blueTowersDestroyed</th>\n      <th>...</th>\n      <th>brAssists</th>\n      <th>brEliteMonsters</th>\n      <th>brDragons</th>\n      <th>brHeralds</th>\n      <th>brTowersDestroyed</th>\n      <th>brTotalGold</th>\n      <th>brAvgLevel</th>\n      <th>brTotalExperience</th>\n      <th>brTotalMinionsKilled</th>\n      <th>brTotalJungleMinionsKilled</th>\n    </tr>\n  </thead>\n  <tbody>\n    <tr>\n      <th>0</th>\n      <td>0</td>\n      <td>28</td>\n      <td>2</td>\n      <td>9</td>\n      <td>6</td>\n      <td>11</td>\n      <td>0</td>\n      <td>0</td>\n      <td>0</td>\n      <td>0</td>\n      <td>...</td>\n      <td>3</td>\n      <td>0</td>\n      <td>0</td>\n      <td>0</td>\n      <td>0</td>\n      <td>643</td>\n      <td>-0.2</td>\n      <td>-8</td>\n      <td>-2</td>\n      <td>-19</td>\n    </tr>\n    <tr>\n      <th>1</th>\n      <td>0</td>\n      <td>12</td>\n      <td>1</td>\n      <td>5</td>\n      <td>5</td>\n      <td>5</td>\n      <td>0</td>\n      <td>0</td>\n      <td>0</td>\n      <td>0</td>\n      <td>...</td>\n      <td>3</td>\n      <td>-2</td>\n      <td>-1</td>\n      <td>-1</td>\n      <td>-1</td>\n      <td>-2908</td>\n      <td>-0.2</td>\n      <td>-1173</td>\n      <td>-66</td>\n      <td>-9</td>\n    </tr>\n    <tr>\n      <th>2</th>\n      <td>0</td>\n      <td>15</td>\n      <td>0</td>\n      <td>7</td>\n      <td>11</td>\n      <td>4</td>\n      <td>1</td>\n      <td>1</td>\n      <td>0</td>\n      <td>0</td>\n      <td>...</td>\n      <td>-10</td>\n      <td>1</td>\n      <td>1</td>\n      <td>0</td>\n      <td>0</td>\n      <td>-1172</td>\n      <td>-0.4</td>\n      <td>-1033</td>\n      <td>-17</td>\n      <td>18</td>\n    </tr>\n    <tr>\n      <th>3</th>\n      <td>0</td>\n      <td>43</td>\n      <td>1</td>\n      <td>4</td>\n      <td>5</td>\n      <td>5</td>\n      <td>1</td>\n      <td>0</td>\n      <td>1</td>\n      <td>0</td>\n      <td>...</td>\n      <td>-5</td>\n      <td>1</td>\n      <td>0</td>\n      <td>1</td>\n      <td>0</td>\n      <td>-1321</td>\n      <td>0.0</td>\n      <td>-7</td>\n      <td>-34</td>\n      <td>8</td>\n    </tr>\n    <tr>\n      <th>4</th>\n      <td>0</td>\n      <td>75</td>\n      <td>4</td>\n      <td>6</td>\n      <td>6</td>\n      <td>6</td>\n      <td>0</td>\n      <td>0</td>\n      <td>0</td>\n      <td>0</td>\n      <td>...</td>\n      <td>-1</td>\n      <td>-1</td>\n      <td>-1</td>\n      <td>0</td>\n      <td>0</td>\n      <td>-1004</td>\n      <td>0.0</td>\n      <td>230</td>\n      <td>-15</td>\n      <td>-10</td>\n    </tr>\n    <tr>\n      <th>...</th>\n      <td>...</td>\n      <td>...</td>\n      <td>...</td>\n      <td>...</td>\n      <td>...</td>\n      <td>...</td>\n      <td>...</td>\n      <td>...</td>\n      <td>...</td>\n      <td>...</td>\n      <td>...</td>\n      <td>...</td>\n      <td>...</td>\n      <td>...</td>\n      <td>...</td>\n      <td>...</td>\n      <td>...</td>\n      <td>...</td>\n      <td>...</td>\n      <td>...</td>\n      <td>...</td>\n    </tr>\n    <tr>\n      <th>9874</th>\n      <td>1</td>\n      <td>17</td>\n      <td>2</td>\n      <td>7</td>\n      <td>4</td>\n      <td>5</td>\n      <td>1</td>\n      <td>1</td>\n      <td>0</td>\n      <td>0</td>\n      <td>...</td>\n      <td>-2</td>\n      <td>1</td>\n      <td>1</td>\n      <td>0</td>\n      <td>0</td>\n      <td>2519</td>\n      <td>0.4</td>\n      <td>2469</td>\n      <td>-18</td>\n      <td>35</td>\n    </tr>\n    <tr>\n      <th>9875</th>\n      <td>1</td>\n      <td>54</td>\n      <td>0</td>\n      <td>6</td>\n      <td>4</td>\n      <td>8</td>\n      <td>1</td>\n      <td>1</td>\n      <td>0</td>\n      <td>0</td>\n      <td>...</td>\n      <td>5</td>\n      <td>1</td>\n      <td>1</td>\n      <td>0</td>\n      <td>0</td>\n      <td>782</td>\n      <td>0.2</td>\n      <td>888</td>\n      <td>27</td>\n      <td>-8</td>\n    </tr>\n    <tr>\n      <th>9876</th>\n      <td>0</td>\n      <td>23</td>\n      <td>1</td>\n      <td>6</td>\n      <td>7</td>\n      <td>5</td>\n      <td>0</td>\n      <td>0</td>\n      <td>0</td>\n      <td>0</td>\n      <td>...</td>\n      <td>-6</td>\n      <td>-1</td>\n      <td>-1</td>\n      <td>0</td>\n      <td>0</td>\n      <td>-2416</td>\n      <td>-0.4</td>\n      <td>-1877</td>\n      <td>-51</td>\n      <td>-15</td>\n    </tr>\n    <tr>\n      <th>9877</th>\n      <td>0</td>\n      <td>14</td>\n      <td>4</td>\n      <td>2</td>\n      <td>3</td>\n      <td>3</td>\n      <td>1</td>\n      <td>1</td>\n      <td>0</td>\n      <td>0</td>\n      <td>...</td>\n      <td>2</td>\n      <td>1</td>\n      <td>1</td>\n      <td>0</td>\n      <td>0</td>\n      <td>-839</td>\n      <td>-0.6</td>\n      <td>-1085</td>\n      <td>-23</td>\n      <td>8</td>\n    </tr>\n    <tr>\n      <th>9878</th>\n      <td>1</td>\n      <td>18</td>\n      <td>0</td>\n      <td>6</td>\n      <td>6</td>\n      <td>5</td>\n      <td>0</td>\n      <td>0</td>\n      <td>0</td>\n      <td>0</td>\n      <td>...</td>\n      <td>1</td>\n      <td>-1</td>\n      <td>-1</td>\n      <td>0</td>\n      <td>0</td>\n      <td>927</td>\n      <td>0.2</td>\n      <td>-58</td>\n      <td>6</td>\n      <td>-2</td>\n    </tr>\n  </tbody>\n</table>\n<p>9879 rows × 44 columns</p>\n</div>"
     },
     "execution_count": 166,
     "metadata": {},
     "output_type": "execute_result"
    }
   ],
   "source": [
    "for info in info_names: # 对于每个特征名字\n",
    "    df['br' + info] = df['blue' + info] - df['red' + info] # 构造一个新的特征，由蓝色特征减去红色特征，前缀为br\n",
    "# 其中FirstBlood为首次击杀最多有一只队伍能获得，brFirstBlood=1为蓝，0为没有产生，-1为红\n",
    "df = df.drop(columns=['blueFirstBlood', 'redFirstBlood']) # 原有的FirstBlood可删除\n",
    "df"
   ]
  },
  {
   "cell_type": "markdown",
   "metadata": {},
   "source": [
    "### 特征离散化\n",
    "决策树ID3算法一般是基于离散特征的，本例中存在很多连续的数值特征，例如队伍金币。直接应用该算法每个值当作一个该特征的一个取值可能造成严重的过拟合，因此需要对特征进行离散化，即将一定范围内的值映射成一个值，例如对用户年龄特征，将0-10映射到0，11-18映射到1，19-25映射到2，25-30映射到3，等等类似，然后在决策树构建时使用映射后的值计算信息增益。\n",
    "\n",
    "***本小节要求实现特征离散化，请补全相关代码***"
   ]
  },
  {
   "cell_type": "code",
   "execution_count": 167,
   "metadata": {
    "collapsed": false,
    "ExecuteTime": {
     "end_time": "2024-03-01T15:48:17.179370600Z",
     "start_time": "2024-03-01T15:48:17.145462Z"
    }
   },
   "outputs": [
    {
     "data": {
      "text/plain": "Index(['blueWins', 'blueWardsPlaced', 'blueWardsDestroyed', 'blueKills',\n       'blueDeaths', 'blueAssists', 'blueEliteMonsters', 'blueDragons',\n       'blueHeralds', 'blueTowersDestroyed', 'blueTotalGold', 'blueAvgLevel',\n       'blueTotalExperience', 'blueTotalMinionsKilled',\n       'blueTotalJungleMinionsKilled', 'redWardsPlaced', 'redWardsDestroyed',\n       'redKills', 'redDeaths', 'redAssists', 'redEliteMonsters', 'redDragons',\n       'redHeralds', 'redTowersDestroyed', 'redTotalGold', 'redAvgLevel',\n       'redTotalExperience', 'redTotalMinionsKilled',\n       'redTotalJungleMinionsKilled', 'brWardsPlaced', 'brWardsDestroyed',\n       'brFirstBlood', 'brKills', 'brDeaths', 'brAssists', 'brEliteMonsters',\n       'brDragons', 'brHeralds', 'brTowersDestroyed', 'brTotalGold',\n       'brAvgLevel', 'brTotalExperience', 'brTotalMinionsKilled',\n       'brTotalJungleMinionsKilled'],\n      dtype='object')"
     },
     "execution_count": 167,
     "metadata": {},
     "output_type": "execute_result"
    }
   ],
   "source": [
    "discrete_df = df.copy() # 先复制一份数据\n",
    "df.columns"
   ]
  },
  {
   "cell_type": "code",
   "outputs": [],
   "source": [
    "for c in df.columns[1:]: # 遍历每一列特征，跳过标签列\n",
    "    '''\n",
    "    请离散化每一列特征，即discrete_df[c] = ...\n",
    "    '''\n",
    "    if discrete_df[c].nunique() > 10: # 统计列中的不同元素数量 \n",
    "        discrete_df[c] = pd.qcut(discrete_df[c].rank(method='first'), q=2, labels=[1, 2])\n",
    "    else:\n",
    "        continue\n",
    "    '''\n",
    "    提示：\n",
    "    对于有些特征本身取值就很少，可以跳过即 if ... : continue\n",
    "    对于其他特征，可以使用等区间离散化、等密度离散化或一些其他离散化方法\n",
    "    可参考使用pandas.cut或qcut\n",
    "    '''"
   ],
   "metadata": {
    "collapsed": false,
    "ExecuteTime": {
     "end_time": "2024-03-01T15:48:17.283093400Z",
     "start_time": "2024-03-01T15:48:17.160422300Z"
    }
   },
   "execution_count": 168
  },
  {
   "cell_type": "code",
   "execution_count": 169,
   "metadata": {
    "collapsed": false,
    "ExecuteTime": {
     "end_time": "2024-03-01T15:48:17.352913Z",
     "start_time": "2024-03-01T15:48:17.271125300Z"
    }
   },
   "outputs": [
    {
     "data": {
      "text/plain": "      blueWins blueWardsPlaced blueWardsDestroyed blueKills blueDeaths  \\\n0            0               2                  1         2          1   \n1            0               1                  1         1          1   \n2            0               1                  1         2          2   \n3            0               2                  1         1          1   \n4            0               2                  2         1          1   \n...        ...             ...                ...       ...        ...   \n9874         1               2                  1         2          1   \n9875         1               2                  1         2          1   \n9876         0               2                  1         2          2   \n9877         0               1                  2         1          1   \n9878         1               2                  1         2          2   \n\n     blueAssists  blueEliteMonsters  blueDragons  blueHeralds  \\\n0              2                  0            0            0   \n1              1                  0            0            0   \n2              1                  1            1            0   \n3              1                  1            0            1   \n4              1                  0            0            0   \n...          ...                ...          ...          ...   \n9874           1                  1            1            0   \n9875           2                  1            1            0   \n9876           1                  0            0            0   \n9877           1                  1            1            0   \n9878           1                  0            0            0   \n\n      blueTowersDestroyed  ... brAssists brEliteMonsters brDragons brHeralds  \\\n0                       0  ...         2               0         0         0   \n1                       0  ...         2              -2        -1        -1   \n2                       0  ...         1               1         1         0   \n3                       0  ...         1               1         0         1   \n4                       0  ...         1              -1        -1         0   \n...                   ...  ...       ...             ...       ...       ...   \n9874                    0  ...         1               1         1         0   \n9875                    0  ...         2               1         1         0   \n9876                    0  ...         1              -1        -1         0   \n9877                    0  ...         2               1         1         0   \n9878                    0  ...         2              -1        -1         0   \n\n     brTowersDestroyed brTotalGold brAvgLevel brTotalExperience  \\\n0                    0           2          1                 2   \n1                   -1           1          1                 1   \n2                    0           1          1                 1   \n3                    0           1          1                 2   \n4                    0           1          1                 2   \n...                ...         ...        ...               ...   \n9874                 0           2          2                 2   \n9875                 0           2          2                 2   \n9876                 0           1          1                 1   \n9877                 0           1          1                 1   \n9878                 0           2          2                 1   \n\n     brTotalMinionsKilled brTotalJungleMinionsKilled  \n0                       1                          1  \n1                       1                          1  \n2                       1                          2  \n3                       1                          2  \n4                       1                          1  \n...                   ...                        ...  \n9874                    1                          2  \n9875                    2                          1  \n9876                    1                          1  \n9877                    1                          2  \n9878                    2                          1  \n\n[9879 rows x 44 columns]",
      "text/html": "<div>\n<style scoped>\n    .dataframe tbody tr th:only-of-type {\n        vertical-align: middle;\n    }\n\n    .dataframe tbody tr th {\n        vertical-align: top;\n    }\n\n    .dataframe thead th {\n        text-align: right;\n    }\n</style>\n<table border=\"1\" class=\"dataframe\">\n  <thead>\n    <tr style=\"text-align: right;\">\n      <th></th>\n      <th>blueWins</th>\n      <th>blueWardsPlaced</th>\n      <th>blueWardsDestroyed</th>\n      <th>blueKills</th>\n      <th>blueDeaths</th>\n      <th>blueAssists</th>\n      <th>blueEliteMonsters</th>\n      <th>blueDragons</th>\n      <th>blueHeralds</th>\n      <th>blueTowersDestroyed</th>\n      <th>...</th>\n      <th>brAssists</th>\n      <th>brEliteMonsters</th>\n      <th>brDragons</th>\n      <th>brHeralds</th>\n      <th>brTowersDestroyed</th>\n      <th>brTotalGold</th>\n      <th>brAvgLevel</th>\n      <th>brTotalExperience</th>\n      <th>brTotalMinionsKilled</th>\n      <th>brTotalJungleMinionsKilled</th>\n    </tr>\n  </thead>\n  <tbody>\n    <tr>\n      <th>0</th>\n      <td>0</td>\n      <td>2</td>\n      <td>1</td>\n      <td>2</td>\n      <td>1</td>\n      <td>2</td>\n      <td>0</td>\n      <td>0</td>\n      <td>0</td>\n      <td>0</td>\n      <td>...</td>\n      <td>2</td>\n      <td>0</td>\n      <td>0</td>\n      <td>0</td>\n      <td>0</td>\n      <td>2</td>\n      <td>1</td>\n      <td>2</td>\n      <td>1</td>\n      <td>1</td>\n    </tr>\n    <tr>\n      <th>1</th>\n      <td>0</td>\n      <td>1</td>\n      <td>1</td>\n      <td>1</td>\n      <td>1</td>\n      <td>1</td>\n      <td>0</td>\n      <td>0</td>\n      <td>0</td>\n      <td>0</td>\n      <td>...</td>\n      <td>2</td>\n      <td>-2</td>\n      <td>-1</td>\n      <td>-1</td>\n      <td>-1</td>\n      <td>1</td>\n      <td>1</td>\n      <td>1</td>\n      <td>1</td>\n      <td>1</td>\n    </tr>\n    <tr>\n      <th>2</th>\n      <td>0</td>\n      <td>1</td>\n      <td>1</td>\n      <td>2</td>\n      <td>2</td>\n      <td>1</td>\n      <td>1</td>\n      <td>1</td>\n      <td>0</td>\n      <td>0</td>\n      <td>...</td>\n      <td>1</td>\n      <td>1</td>\n      <td>1</td>\n      <td>0</td>\n      <td>0</td>\n      <td>1</td>\n      <td>1</td>\n      <td>1</td>\n      <td>1</td>\n      <td>2</td>\n    </tr>\n    <tr>\n      <th>3</th>\n      <td>0</td>\n      <td>2</td>\n      <td>1</td>\n      <td>1</td>\n      <td>1</td>\n      <td>1</td>\n      <td>1</td>\n      <td>0</td>\n      <td>1</td>\n      <td>0</td>\n      <td>...</td>\n      <td>1</td>\n      <td>1</td>\n      <td>0</td>\n      <td>1</td>\n      <td>0</td>\n      <td>1</td>\n      <td>1</td>\n      <td>2</td>\n      <td>1</td>\n      <td>2</td>\n    </tr>\n    <tr>\n      <th>4</th>\n      <td>0</td>\n      <td>2</td>\n      <td>2</td>\n      <td>1</td>\n      <td>1</td>\n      <td>1</td>\n      <td>0</td>\n      <td>0</td>\n      <td>0</td>\n      <td>0</td>\n      <td>...</td>\n      <td>1</td>\n      <td>-1</td>\n      <td>-1</td>\n      <td>0</td>\n      <td>0</td>\n      <td>1</td>\n      <td>1</td>\n      <td>2</td>\n      <td>1</td>\n      <td>1</td>\n    </tr>\n    <tr>\n      <th>...</th>\n      <td>...</td>\n      <td>...</td>\n      <td>...</td>\n      <td>...</td>\n      <td>...</td>\n      <td>...</td>\n      <td>...</td>\n      <td>...</td>\n      <td>...</td>\n      <td>...</td>\n      <td>...</td>\n      <td>...</td>\n      <td>...</td>\n      <td>...</td>\n      <td>...</td>\n      <td>...</td>\n      <td>...</td>\n      <td>...</td>\n      <td>...</td>\n      <td>...</td>\n      <td>...</td>\n    </tr>\n    <tr>\n      <th>9874</th>\n      <td>1</td>\n      <td>2</td>\n      <td>1</td>\n      <td>2</td>\n      <td>1</td>\n      <td>1</td>\n      <td>1</td>\n      <td>1</td>\n      <td>0</td>\n      <td>0</td>\n      <td>...</td>\n      <td>1</td>\n      <td>1</td>\n      <td>1</td>\n      <td>0</td>\n      <td>0</td>\n      <td>2</td>\n      <td>2</td>\n      <td>2</td>\n      <td>1</td>\n      <td>2</td>\n    </tr>\n    <tr>\n      <th>9875</th>\n      <td>1</td>\n      <td>2</td>\n      <td>1</td>\n      <td>2</td>\n      <td>1</td>\n      <td>2</td>\n      <td>1</td>\n      <td>1</td>\n      <td>0</td>\n      <td>0</td>\n      <td>...</td>\n      <td>2</td>\n      <td>1</td>\n      <td>1</td>\n      <td>0</td>\n      <td>0</td>\n      <td>2</td>\n      <td>2</td>\n      <td>2</td>\n      <td>2</td>\n      <td>1</td>\n    </tr>\n    <tr>\n      <th>9876</th>\n      <td>0</td>\n      <td>2</td>\n      <td>1</td>\n      <td>2</td>\n      <td>2</td>\n      <td>1</td>\n      <td>0</td>\n      <td>0</td>\n      <td>0</td>\n      <td>0</td>\n      <td>...</td>\n      <td>1</td>\n      <td>-1</td>\n      <td>-1</td>\n      <td>0</td>\n      <td>0</td>\n      <td>1</td>\n      <td>1</td>\n      <td>1</td>\n      <td>1</td>\n      <td>1</td>\n    </tr>\n    <tr>\n      <th>9877</th>\n      <td>0</td>\n      <td>1</td>\n      <td>2</td>\n      <td>1</td>\n      <td>1</td>\n      <td>1</td>\n      <td>1</td>\n      <td>1</td>\n      <td>0</td>\n      <td>0</td>\n      <td>...</td>\n      <td>2</td>\n      <td>1</td>\n      <td>1</td>\n      <td>0</td>\n      <td>0</td>\n      <td>1</td>\n      <td>1</td>\n      <td>1</td>\n      <td>1</td>\n      <td>2</td>\n    </tr>\n    <tr>\n      <th>9878</th>\n      <td>1</td>\n      <td>2</td>\n      <td>1</td>\n      <td>2</td>\n      <td>2</td>\n      <td>1</td>\n      <td>0</td>\n      <td>0</td>\n      <td>0</td>\n      <td>0</td>\n      <td>...</td>\n      <td>2</td>\n      <td>-1</td>\n      <td>-1</td>\n      <td>0</td>\n      <td>0</td>\n      <td>2</td>\n      <td>2</td>\n      <td>1</td>\n      <td>2</td>\n      <td>1</td>\n    </tr>\n  </tbody>\n</table>\n<p>9879 rows × 44 columns</p>\n</div>"
     },
     "execution_count": 169,
     "metadata": {},
     "output_type": "execute_result"
    }
   ],
   "source": [
    "discrete_df"
   ]
  },
  {
   "cell_type": "markdown",
   "metadata": {},
   "source": [
    "### 数据集准备\n",
    "构建机器学习模型前要构建训练和测试的数据集。在本例中首先需要分开标签和特征，标签是不能作为模型的输入特征的，就好比作业和试卷答案不能在做题和考试前就告诉学生。测试一个模型在一个任务上的效果至少需要训练集和测试集，训练集用来训练模型的参数，好比学生做作业获得知识，测试集用来测试模型效果，好比期末考试考察学生学习情况。测试集的样本不应该出现在训练集中，否则会造成模型效果估计偏高，好比考试时出的题如果是作业题中出现过的，会造成考试分数不能准确衡量学生的学习情况，估计值偏高。划分训练集和测试集有多种方法，下面首先介绍的是随机取一部分如20%作测试集，剩下作训练集。sklearn提供了相关工具函数`train_test_split`。sklearn的输入输出一般为numpy的array矩阵，需要先将pandas的DataFrame取出为numpy的array矩阵。"
   ]
  },
  {
   "cell_type": "code",
   "execution_count": 170,
   "metadata": {
    "ExecuteTime": {
     "end_time": "2024-03-01T15:48:17.353931Z",
     "start_time": "2024-03-01T15:48:17.307029300Z"
    }
   },
   "outputs": [
    {
     "data": {
      "text/plain": "((9879,), (9879, 43), (7903, 43), (1976, 43), (7903,), (1976,))"
     },
     "execution_count": 170,
     "metadata": {},
     "output_type": "execute_result"
    }
   ],
   "source": [
    "all_y = discrete_df['blueWins'].values # 所有标签数据\n",
    "feature_names = discrete_df.columns[1:] # 所有特征的名称\n",
    "all_x = discrete_df[feature_names].values # 所有原始特征值，pandas的DataFrame.values取出为numpy的array矩阵\n",
    "\n",
    "# 划分训练集和测试集\n",
    "x_train, x_test, y_train, y_test = train_test_split(all_x, all_y, test_size=0.2, random_state=RANDOM_SEED)\n",
    "all_y.shape, all_x.shape, x_train.shape, x_test.shape, y_train.shape, y_test.shape # 输出数据行列信息"
   ]
  },
  {
   "cell_type": "code",
   "execution_count": 171,
   "metadata": {
    "collapsed": false,
    "ExecuteTime": {
     "end_time": "2024-03-01T15:48:17.379833600Z",
     "start_time": "2024-03-01T15:48:17.332959700Z"
    }
   },
   "outputs": [
    {
     "data": {
      "text/plain": "array([[1, 2, 1, ..., 2, 2, 2],\n       [1, 1, 1, ..., 1, 1, 2],\n       [2, 2, 1, ..., 1, 1, 1],\n       ...,\n       [1, 1, 1, ..., 1, 1, 2],\n       [1, 2, 2, ..., 1, 2, 2],\n       [1, 2, 1, ..., 1, 1, 1]], dtype=int64)"
     },
     "execution_count": 171,
     "metadata": {},
     "output_type": "execute_result"
    }
   ],
   "source": [
    "x_train"
   ]
  },
  {
   "cell_type": "markdown",
   "metadata": {},
   "source": [
    "###  决策树模型的实现\n",
    "***本小节要求实现决策树模型，请补全算法代码***"
   ]
  },
  {
   "cell_type": "code",
   "execution_count": 172,
   "metadata": {
    "scrolled": true,
    "ExecuteTime": {
     "end_time": "2024-03-01T15:48:17.464608600Z",
     "start_time": "2024-03-01T15:48:17.363876400Z"
    }
   },
   "outputs": [],
   "source": [
    "# 定义决策树类\n",
    "class DecisionTree(object):\n",
    "    def __init__(self, classes, features, max_depth=10, min_samples_split=10,impurity_t='entropy'):\n",
    "        '''\n",
    "        传入一些可能用到的模型参数，也可能不会用到\n",
    "        classes表示模型分类总共有几类\n",
    "        features是每个特征的名字，也方便查询总的共特征数\n",
    "        max_depth表示构建决策树时的最大深度\n",
    "        min_samples_split表示构建决策树分裂节点时，如果到达该节点的样本数小于该值则不再分裂\n",
    "        impurity_t表示计算混杂度（不纯度）的计算方式，例如entropy或gini\n",
    "        '''  \n",
    "        self.classes = classes\n",
    "        self.features = features\n",
    "        self.max_depth = max_depth\n",
    "        self.min_samples_split = min_samples_split\n",
    "        self.impurity_t = impurity_t\n",
    "        self.root = None # 定义根节点，未训练时为空\n",
    "        \n",
    "    '''\n",
    "    请实现决策树算法，使得fit函数和predict函数可以正常调用，跑通之后的测试代码，\n",
    "    要求之后测试代码输出的准确率大于0.6。\n",
    "    \n",
    "    提示：\n",
    "    可以定义额外一些函数，例如\n",
    "    impurity()用来计算混杂度\n",
    "    gain()调用impurity用来计算信息增益\n",
    "    expand_node()训练时递归函数分裂节点，考虑不同情况\n",
    "        1. 无需分裂 或 达到分裂阈值\n",
    "        2. 调用gain()找到最佳分裂特征，递归调用expand_node\n",
    "        3. 找不到有用的分裂特征\n",
    "        fit函数调用该函数返回根节点\n",
    "    traverse_node()预测时遍历节点，考虑不同情况\n",
    "        1. 已经到达叶节点，则返回分类结果\n",
    "        2. 该特征取值在训练集中未出现过\n",
    "        3. 依据特征取值进入相应子节点，递归调用traverse_node\n",
    "    当然也可以有其他实现方式。\n",
    "    '''\n",
    "\n",
    "    def impurity(self, y_data):\n",
    "        \"\"\"\n",
    "        计算熵混杂度或者基尼混杂度\n",
    "        \"\"\"\n",
    "        counter = Counter(y_data)\n",
    "        num = len(y_data)\n",
    "        p = np.array([counter[val] / num for val in counter])   # 计算正例和负例的概率\n",
    "        if self.impurity_t == 'gini':\n",
    "            return 1-np.sum(np.power(p, 2))\n",
    "        if self.impurity_t == 'entropy':\n",
    "            return -np.sum(np.multiply(p, np.log2(p)))\n",
    "\n",
    "    def gain(self, x_data, y_data):\n",
    "        \"\"\"\n",
    "        计算信息增益\n",
    "        :return: 最佳的分类特征的索引\n",
    "        \"\"\"\n",
    "        numFeature = len(x_data[0])    # 特征数量\n",
    "        sumimpurity = self.impurity(y_data)  # 混杂度\n",
    "        bestGain = 0    # 增益\n",
    "        bestFeat = -1   # 最佳特征的索引\n",
    "        for feature in range(numFeature): #遍历所有特征\n",
    "            featlist = x_data[:, feature]\n",
    "            uniquevals = set(featlist)  # 创建该特征元素的集合，顺带排序\n",
    "            # sorted_index = np.argsort(featlist) # 将特征所在列排序\n",
    "            subimpurity = 0\n",
    "            for val in uniquevals:  # 遍历所有特征集合中的所有元素，即所有取值结果\n",
    "                subfeature, sublable = self.dividefeat(x_data, feature, y_data, val)\n",
    "                a = self.impurity(sublable)\n",
    "                subimpurity +=a* len(sublable) / len(x_data)\n",
    "            nowgain = (sumimpurity - subimpurity)\n",
    "            if nowgain > bestGain:\n",
    "                bestGain = nowgain\n",
    "                bestFeat = feature\n",
    "        return bestFeat\n",
    "\n",
    "    def dividefeat(self, x_data, tagfeature, y_data, value):\n",
    "        refeature = []\n",
    "        relable = []\n",
    "        features = x_data.tolist()\n",
    "        lables = y_data.tolist()\n",
    "        for index in range(len(x_data)):   # 遍历所有实例\n",
    "            feaVec = features[index]    # 依次选取实例，获得该实例的特征向量\n",
    "            if feaVec[tagfeature] == value:\n",
    "                subfeat = feaVec[:tagfeature]\n",
    "                subfeat.extend(feaVec[tagfeature + 1:]) # 每次减少一个特征\n",
    "                refeature.append(subfeat)\n",
    "                relable.append(lables[index])\n",
    "        return np.array(refeature),np.array(relable)\n",
    "\n",
    "    def majorCnt(self, y_data):\n",
    "        \"\"\"\n",
    "        获取出现频率最高的标签 \n",
    "        \"\"\"\n",
    "        Cnt = Counter(y_data)\n",
    "        return Cnt.most_common(1)[0][0] # 获取最高频率的标签\n",
    "\n",
    "    def expand_node(self, x_data, y_data, depth):\n",
    "        classcount = Counter(y_data)\n",
    "        if len(classcount) == 1:    # 只有正例或者只有负例\n",
    "            return y_data[0]    # 返回该正例或负例\n",
    "        if len(x_data[0]) <= self.min_samples_split:    # 当样本数小于可分割最小样本数时\n",
    "            return self.majorCnt(y_data)    # 返回出现频率最高的标签作为该叶子节点的取值\n",
    "        if depth > self.max_depth:  # 当深度大于决策树的最大深度时，返回出现频率最高的标签作为该叶子节点的取值\n",
    "            return self.majorCnt(y_data)\n",
    "        bestFeat = self.gain(x_data, y_data)    #通过计算信息增益找到最佳切分特征的索引\n",
    "        featValue = [example[bestFeat] for example in x_data]   # 选择最佳特征，获取该特征在所有样本中的值。\n",
    "        uniqueval = set(featValue)  # 创建一个不重复的特征值集合。\n",
    "        subDT = {bestFeat:{}}   # 初始化字典，用于表示以当前最佳特征为节点的子决策树。{a:{}}\n",
    "        for value in uniqueval: # 对最佳特征的每个唯一值进行迭代。\n",
    "            # 根据当前值将数据分成子集，其中subfeature是不包含当前最佳特征的特征数据，sublable是对应的标签数据。\n",
    "            subfeature,sublable = self.dividefeat(x_data, bestFeat, y_data, value)\n",
    "            # 递归调用expand_node函数，在当前特征值对应的数据子集上，继续进行分割操作。\n",
    "            subDT[bestFeat][value] = self.expand_node(subfeature, sublable, depth=depth + 1)\n",
    "        return subDT\n",
    "\n",
    "    def fit(self, x_data, y_data):\n",
    "        assert len(self.features) == len(x_data[0])  # 输入数据的特征数目应该和模型定义时的特征数目相同\n",
    "        self.root = self.expand_node(x_data, y_data, depth=1)\n",
    "\n",
    "    def traverse_node(self,node,feature):\n",
    "        featname = [name for name in node.keys()][0]\n",
    "        sb = [dsb for dsb in node[featname].keys()]\n",
    "        if feature[featname] not in sb :\n",
    "            feature[featname] = sb[0]\n",
    "        if node[featname][feature[featname]] in self.classes:\n",
    "            return node[featname][feature[featname]]\n",
    "        return self.traverse_node(node[featname][feature[featname]],feature)\n",
    "\n",
    "    def predict(self, feature):\n",
    "        assert len(feature.shape) == 1 or len(feature.shape) == 2  # 只能是1维或2维\n",
    "        if len(feature.shape) == 1:  # 如果是一个样本\n",
    "            return self.traverse_node(self.root, feature)  # 从根节点开始路由\n",
    "        return np.array([self.traverse_node(self.root, f) for f in feature])  # 如果是很多个样本"
   ]
  },
  {
   "cell_type": "code",
   "execution_count": 173,
   "metadata": {
    "collapsed": false,
    "ExecuteTime": {
     "end_time": "2024-03-01T15:48:29.085518800Z",
     "start_time": "2024-03-01T15:48:17.379833600Z"
    }
   },
   "outputs": [
    {
     "name": "stdout",
     "output_type": "stream",
     "text": [
      "[0 1 0 ... 1 0 0]\n",
      "accuracy: 0.7105\n"
     ]
    }
   ],
   "source": [
    "# 定义决策树模型，传入算法参数\n",
    "DT = DecisionTree(classes=[0,1], features=feature_names, max_depth=5, min_samples_split=5, impurity_t='entropy')\n",
    "\n",
    "DT.fit(x_train, y_train) # 在训练集上训练\n",
    "p_test = DT.predict(x_test) # 在测试集上预测，获得预测值\n",
    "print(p_test) # 输出预测值\n",
    "test_acc = accuracy_score(p_test, y_test) # 将测试预测值与测试集标签对比获得准确率\n",
    "print('accuracy: {:.4f}'.format(test_acc)) # 输出准确率"
   ]
  },
  {
   "cell_type": "markdown",
   "metadata": {},
   "source": [
    "### 模型调优\n",
    "第一次模型测试结果可能不够好，可以先检查调试代码是否有bug，再尝试调整参数或者优化计算方法。"
   ]
  },
  {
   "cell_type": "markdown",
   "metadata": {},
   "source": [
    "### 总结\n",
    "一个完整的机器学习任务包括：确定任务、数据分析、特征工程、数据集划分、模型设计、模型训练和效果测试、结果分析和调优等多个阶段，本案例以英雄联盟游戏胜负预测任务为例，给出了每个阶段的一些简单例子，帮助大家入门机器学习，希望大家有所收获！"
   ]
  }
 ],
 "metadata": {
  "kernelspec": {
   "display_name": "Python 3",
   "language": "python",
   "name": "python3"
  },
  "language_info": {
   "codemirror_mode": {
    "name": "ipython",
    "version": 3
   },
   "file_extension": ".py",
   "mimetype": "text/x-python",
   "name": "python",
   "nbconvert_exporter": "python",
   "pygments_lexer": "ipython3",
   "version": "3.9.16"
  }
 },
 "nbformat": 4,
 "nbformat_minor": 2
}
